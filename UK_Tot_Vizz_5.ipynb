{
  "nbformat": 4,
  "nbformat_minor": 0,
  "metadata": {
    "colab": {
      "name": "UK Tot Vizz 5",
      "provenance": [],
      "collapsed_sections": [],
      "authorship_tag": "ABX9TyPCnC6BYxOSLOTipai6PMEG",
      "include_colab_link": true
    },
    "kernelspec": {
      "name": "python3",
      "display_name": "Python 3"
    },
    "language_info": {
      "name": "python"
    }
  },
  "cells": [
    {
      "cell_type": "markdown",
      "metadata": {
        "id": "view-in-github",
        "colab_type": "text"
      },
      "source": [
        "<a href=\"https://colab.research.google.com/github/KristianMiok/Parliamentary-Discourse/blob/main/UK_Tot_Vizz_5.ipynb\" target=\"_parent\"><img src=\"https://colab.research.google.com/assets/colab-badge.svg\" alt=\"Open In Colab\"/></a>"
      ]
    },
    {
      "cell_type": "code",
      "metadata": {
        "id": "C52QNpNNQWnP"
      },
      "source": [
        "# To be run only once\n",
        "if 0 == 1:\n",
        "    !pip install gensim\n",
        "    !pip install PyLDAvis\n",
        "    !pip install spacy\n",
        "    !python -m spacy download en_core_web_sm"
      ],
      "execution_count": null,
      "outputs": []
    },
    {
      "cell_type": "code",
      "metadata": {
        "id": "1Sv9ofdu9jnt",
        "colab": {
          "base_uri": "https://localhost:8080/"
        },
        "outputId": "41fb541b-29c2-4754-9b0c-a937a7526826"
      },
      "source": [
        "# Access to resources\n",
        "from google.colab import drive\n",
        "drive.mount('/content/gdrive', force_remount=True)"
      ],
      "execution_count": null,
      "outputs": [
        {
          "output_type": "stream",
          "name": "stdout",
          "text": [
            "Mounted at /content/gdrive\n"
          ]
        }
      ]
    },
    {
      "cell_type": "code",
      "metadata": {
        "id": "Vomc06VCEy1H"
      },
      "source": [
        "# Read data from file\n",
        "import pandas as pd\n",
        "from sklearn.utils import shuffle\n",
        "\n",
        "# Point to the file in Google Drive\n",
        "# filename='/content/gdrive/My Drive/Topic Modeling/om.csv'\n",
        "#filename='/content/gdrive/My Drive/EN_HS/big_dataset.csv'\n",
        "df = pd.read_csv('/content/gdrive/My Drive/Text Summarization/UK/Data/total_80.txt', sep='\\t',encoding=\"utf-8\")"
      ],
      "execution_count": null,
      "outputs": []
    },
    {
      "cell_type": "code",
      "metadata": {
        "id": "POTFcy56S3Ab",
        "colab": {
          "base_uri": "https://localhost:8080/"
        },
        "outputId": "e1653865-8b44-4754-b4e0-ba5fea41fa98"
      },
      "source": [
        "df.shape"
      ],
      "execution_count": null,
      "outputs": [
        {
          "output_type": "execute_result",
          "data": {
            "text/plain": [
              "(79997, 20)"
            ]
          },
          "metadata": {},
          "execution_count": 4
        }
      ]
    },
    {
      "cell_type": "code",
      "metadata": {
        "id": "7ARSq_mvTma4",
        "colab": {
          "base_uri": "https://localhost:8080/"
        },
        "outputId": "a30c9e41-b6be-4a77-ae66-94dcd9d56cd3"
      },
      "source": [
        "df.columns"
      ],
      "execution_count": null,
      "outputs": [
        {
          "output_type": "execute_result",
          "data": {
            "text/plain": [
              "Index(['ID', 'Title', 'From', 'To', 'House', 'Term', 'Session', 'Meeting',\n",
              "       'Sitting', 'Agenda', 'Subcorpus', 'Speaker_role', 'Speaker_type',\n",
              "       'Speaker_party', 'Speaker_party_name', 'Party_status', 'Speaker_name',\n",
              "       'Speaker_gender', 'Speaker_birth', 'V2'],\n",
              "      dtype='object')"
            ]
          },
          "metadata": {},
          "execution_count": 5
        }
      ]
    },
    {
      "cell_type": "code",
      "metadata": {
        "colab": {
          "base_uri": "https://localhost:8080/"
        },
        "id": "sN6WPozJUNXK",
        "outputId": "3398e595-8ee4-49ae-98ae-89b7a00a6a99"
      },
      "source": [
        "df['Speaker_role'].value_counts()"
      ],
      "execution_count": null,
      "outputs": [
        {
          "output_type": "execute_result",
          "data": {
            "text/plain": [
              "Regular    79997\n",
              "Name: Speaker_role, dtype: int64"
            ]
          },
          "metadata": {},
          "execution_count": 6
        }
      ]
    },
    {
      "cell_type": "code",
      "metadata": {
        "id": "5vd1fTj0Vzvy"
      },
      "source": [
        "df1=df.loc[df['Speaker_type'] == \"MP\"]"
      ],
      "execution_count": null,
      "outputs": []
    },
    {
      "cell_type": "code",
      "metadata": {
        "id": "zMd8V2XDWXIX"
      },
      "source": [
        "df2=df1.loc[df1['Speaker_role'] == \"Regular\"]"
      ],
      "execution_count": null,
      "outputs": []
    },
    {
      "cell_type": "code",
      "metadata": {
        "colab": {
          "base_uri": "https://localhost:8080/"
        },
        "id": "f5y7vJejWQqw",
        "outputId": "9a021be6-c1dc-4a9a-a19a-2bc5b009c71b"
      },
      "source": [
        "df2.shape"
      ],
      "execution_count": null,
      "outputs": [
        {
          "output_type": "execute_result",
          "data": {
            "text/plain": [
              "(79997, 20)"
            ]
          },
          "metadata": {},
          "execution_count": 9
        }
      ]
    },
    {
      "cell_type": "code",
      "metadata": {
        "id": "FGEkXgGST1fT"
      },
      "source": [
        "papers=df2"
      ],
      "execution_count": null,
      "outputs": []
    },
    {
      "cell_type": "code",
      "metadata": {
        "id": "J5h4ZtcuTgkU",
        "colab": {
          "base_uri": "https://localhost:8080/"
        },
        "outputId": "9899f452-a4ac-4989-b274-2bc0cb3fffc8"
      },
      "source": [
        "# Cleaning!\n",
        "# Load the regular expression library\n",
        "import re\n",
        "\n",
        "# Remove punctuation\n",
        "papers['paper_text_processed'] = papers['V2'].map(lambda x: re.sub('[,\\.!?]', '', x))\n",
        "\n",
        "# Convert the titles to lowercase\n",
        "papers['paper_text_processed'] = papers['paper_text_processed'].map(lambda x: x.lower())\n",
        "\n",
        "# Print out the first rows of papers\n",
        "papers['paper_text_processed'].head()"
      ],
      "execution_count": null,
      "outputs": [
        {
          "output_type": "execute_result",
          "data": {
            "text/plain": [
              "0    (urgent question): to ask the secretary of sta...\n",
              "1    i thank the minister for that answer i presume...\n",
              "2    my lords i declare my interests in the registe...\n",
              "3    25 whether she plans to exclude international ...\n",
              "4    i understand that people quite often want to b...\n",
              "Name: paper_text_processed, dtype: object"
            ]
          },
          "metadata": {},
          "execution_count": 11
        }
      ]
    },
    {
      "cell_type": "code",
      "metadata": {
        "id": "2xNACl6qUFxA",
        "colab": {
          "base_uri": "https://localhost:8080/"
        },
        "outputId": "842df96e-91f2-4266-f4cb-2eb9747aeebd"
      },
      "source": [
        "import gensim\n",
        "from gensim.utils import simple_preprocess\n",
        "\n",
        "def sent_to_words(sentences):\n",
        "    for sentence in sentences:\n",
        "        yield(gensim.utils.simple_preprocess(str(sentence), deacc=True))  # deacc=True removes punctuations\n",
        "\n",
        "data = papers.paper_text_processed.values.tolist()\n",
        "data_words = list(sent_to_words(data))\n",
        "\n",
        "print(data_words[:1][0][:30])"
      ],
      "execution_count": null,
      "outputs": [
        {
          "output_type": "stream",
          "name": "stdout",
          "text": [
            "['urgent', 'question', 'to', 'ask', 'the', 'secretary', 'of', 'state', 'for', 'transport', 'if', 'he', 'will', 'make', 'statement', 'on', 'recent', 'changes', 'to', 'aviation', 'security']\n"
          ]
        }
      ]
    },
    {
      "cell_type": "code",
      "metadata": {
        "id": "gGUqtCbLUqM5",
        "colab": {
          "base_uri": "https://localhost:8080/"
        },
        "outputId": "68c78758-1db4-47ad-d62f-4b9858b0353c"
      },
      "source": [
        "# Build the bigram and trigram models\n",
        "bigram = gensim.models.Phrases(data_words, min_count=5, threshold=100) # higher threshold fewer phrases.\n",
        "trigram = gensim.models.Phrases(bigram[data_words], threshold=100)  \n",
        "\n",
        "# Faster way to get a sentence clubbed as a trigram/bigram\n",
        "bigram_mod = gensim.models.phrases.Phraser(bigram)\n",
        "trigram_mod = gensim.models.phrases.Phraser(trigram)"
      ],
      "execution_count": null,
      "outputs": [
        {
          "output_type": "stream",
          "name": "stderr",
          "text": [
            "/usr/local/lib/python3.7/dist-packages/gensim/models/phrases.py:598: UserWarning: For a faster implementation, use the gensim.models.phrases.Phraser class\n",
            "  warnings.warn(\"For a faster implementation, use the gensim.models.phrases.Phraser class\")\n"
          ]
        }
      ]
    },
    {
      "cell_type": "code",
      "metadata": {
        "id": "Mg5DIyUsVIY4",
        "colab": {
          "base_uri": "https://localhost:8080/"
        },
        "outputId": "43f840c6-e707-4638-b052-43d8ceb176c7"
      },
      "source": [
        "# NLTK Stop words\n",
        "import nltk\n",
        "nltk.download('stopwords')\n",
        "from nltk.corpus import stopwords\n",
        "\n",
        "stop_words = stopwords.words('english')\n",
        "stop_words.extend([\"say\",\"time\",\"want\",\"know\",\"friend\",\"come\",\"see\",\"right\",\"member\",\"today\",\"thing\",\"may\",\"year\",\"week\",\"put\",\"last\",\"make\",\"leave\",\"good\",\"day\",\"can\",\"speak\",\"great\",\"place\",\"thank\",\"hear\",\"must\",\"way\",\"go\",\"think\",\"debate\",\"lord\",\"member\",\"question\",\"plan\",\"could\",\"would\",\"business\",\"year\",'people',\"noble\",\"say\",\"government\",\"lord\",\"support\",\"country\",\"deal\",\"work\",\"pay\",\"many\",\"have\", \"give\", \"take\", \"make\", \"do\", \"get\"])"
      ],
      "execution_count": null,
      "outputs": [
        {
          "output_type": "stream",
          "name": "stdout",
          "text": [
            "[nltk_data] Downloading package stopwords to /root/nltk_data...\n",
            "[nltk_data]   Package stopwords is already up-to-date!\n"
          ]
        }
      ]
    },
    {
      "cell_type": "code",
      "metadata": {
        "colab": {
          "base_uri": "https://localhost:8080/"
        },
        "id": "GegLoKPwMrYO",
        "outputId": "d706e25e-e17c-4152-be0c-53a5cbf1a0ce"
      },
      "source": [
        "stop_words"
      ],
      "execution_count": null,
      "outputs": [
        {
          "output_type": "execute_result",
          "data": {
            "text/plain": [
              "['i',\n",
              " 'me',\n",
              " 'my',\n",
              " 'myself',\n",
              " 'we',\n",
              " 'our',\n",
              " 'ours',\n",
              " 'ourselves',\n",
              " 'you',\n",
              " \"you're\",\n",
              " \"you've\",\n",
              " \"you'll\",\n",
              " \"you'd\",\n",
              " 'your',\n",
              " 'yours',\n",
              " 'yourself',\n",
              " 'yourselves',\n",
              " 'he',\n",
              " 'him',\n",
              " 'his',\n",
              " 'himself',\n",
              " 'she',\n",
              " \"she's\",\n",
              " 'her',\n",
              " 'hers',\n",
              " 'herself',\n",
              " 'it',\n",
              " \"it's\",\n",
              " 'its',\n",
              " 'itself',\n",
              " 'they',\n",
              " 'them',\n",
              " 'their',\n",
              " 'theirs',\n",
              " 'themselves',\n",
              " 'what',\n",
              " 'which',\n",
              " 'who',\n",
              " 'whom',\n",
              " 'this',\n",
              " 'that',\n",
              " \"that'll\",\n",
              " 'these',\n",
              " 'those',\n",
              " 'am',\n",
              " 'is',\n",
              " 'are',\n",
              " 'was',\n",
              " 'were',\n",
              " 'be',\n",
              " 'been',\n",
              " 'being',\n",
              " 'have',\n",
              " 'has',\n",
              " 'had',\n",
              " 'having',\n",
              " 'do',\n",
              " 'does',\n",
              " 'did',\n",
              " 'doing',\n",
              " 'a',\n",
              " 'an',\n",
              " 'the',\n",
              " 'and',\n",
              " 'but',\n",
              " 'if',\n",
              " 'or',\n",
              " 'because',\n",
              " 'as',\n",
              " 'until',\n",
              " 'while',\n",
              " 'of',\n",
              " 'at',\n",
              " 'by',\n",
              " 'for',\n",
              " 'with',\n",
              " 'about',\n",
              " 'against',\n",
              " 'between',\n",
              " 'into',\n",
              " 'through',\n",
              " 'during',\n",
              " 'before',\n",
              " 'after',\n",
              " 'above',\n",
              " 'below',\n",
              " 'to',\n",
              " 'from',\n",
              " 'up',\n",
              " 'down',\n",
              " 'in',\n",
              " 'out',\n",
              " 'on',\n",
              " 'off',\n",
              " 'over',\n",
              " 'under',\n",
              " 'again',\n",
              " 'further',\n",
              " 'then',\n",
              " 'once',\n",
              " 'here',\n",
              " 'there',\n",
              " 'when',\n",
              " 'where',\n",
              " 'why',\n",
              " 'how',\n",
              " 'all',\n",
              " 'any',\n",
              " 'both',\n",
              " 'each',\n",
              " 'few',\n",
              " 'more',\n",
              " 'most',\n",
              " 'other',\n",
              " 'some',\n",
              " 'such',\n",
              " 'no',\n",
              " 'nor',\n",
              " 'not',\n",
              " 'only',\n",
              " 'own',\n",
              " 'same',\n",
              " 'so',\n",
              " 'than',\n",
              " 'too',\n",
              " 'very',\n",
              " 's',\n",
              " 't',\n",
              " 'can',\n",
              " 'will',\n",
              " 'just',\n",
              " 'don',\n",
              " \"don't\",\n",
              " 'should',\n",
              " \"should've\",\n",
              " 'now',\n",
              " 'd',\n",
              " 'll',\n",
              " 'm',\n",
              " 'o',\n",
              " 're',\n",
              " 've',\n",
              " 'y',\n",
              " 'ain',\n",
              " 'aren',\n",
              " \"aren't\",\n",
              " 'couldn',\n",
              " \"couldn't\",\n",
              " 'didn',\n",
              " \"didn't\",\n",
              " 'doesn',\n",
              " \"doesn't\",\n",
              " 'hadn',\n",
              " \"hadn't\",\n",
              " 'hasn',\n",
              " \"hasn't\",\n",
              " 'haven',\n",
              " \"haven't\",\n",
              " 'isn',\n",
              " \"isn't\",\n",
              " 'ma',\n",
              " 'mightn',\n",
              " \"mightn't\",\n",
              " 'mustn',\n",
              " \"mustn't\",\n",
              " 'needn',\n",
              " \"needn't\",\n",
              " 'shan',\n",
              " \"shan't\",\n",
              " 'shouldn',\n",
              " \"shouldn't\",\n",
              " 'wasn',\n",
              " \"wasn't\",\n",
              " 'weren',\n",
              " \"weren't\",\n",
              " 'won',\n",
              " \"won't\",\n",
              " 'wouldn',\n",
              " \"wouldn't\",\n",
              " 'say',\n",
              " 'time',\n",
              " 'want',\n",
              " 'know',\n",
              " 'friend',\n",
              " 'come',\n",
              " 'see',\n",
              " 'right',\n",
              " 'member',\n",
              " 'today',\n",
              " 'thing',\n",
              " 'may',\n",
              " 'year',\n",
              " 'week',\n",
              " 'put',\n",
              " 'last',\n",
              " 'make',\n",
              " 'leave',\n",
              " 'good',\n",
              " 'day',\n",
              " 'can',\n",
              " 'speak',\n",
              " 'great',\n",
              " 'place',\n",
              " 'thank',\n",
              " 'hear',\n",
              " 'must',\n",
              " 'way',\n",
              " 'go',\n",
              " 'think',\n",
              " 'debate',\n",
              " 'lord',\n",
              " 'member',\n",
              " 'question',\n",
              " 'plan',\n",
              " 'could',\n",
              " 'would',\n",
              " 'business',\n",
              " 'year',\n",
              " 'people',\n",
              " 'noble',\n",
              " 'say',\n",
              " 'government',\n",
              " 'lord',\n",
              " 'support',\n",
              " 'country',\n",
              " 'deal',\n",
              " 'work',\n",
              " 'pay',\n",
              " 'many',\n",
              " 'have',\n",
              " 'give',\n",
              " 'take',\n",
              " 'make',\n",
              " 'do',\n",
              " 'get']"
            ]
          },
          "metadata": {},
          "execution_count": 15
        }
      ]
    },
    {
      "cell_type": "code",
      "metadata": {
        "id": "pe4graxZU2Yp"
      },
      "source": [
        "# Define functions for stopwords, bigrams, trigrams and lemmatization\n",
        "def remove_stopwords(texts):\n",
        "    return [[word for word in simple_preprocess(str(doc)) if word not in stop_words] for doc in texts]\n",
        "\n",
        "def make_bigrams(texts):\n",
        "    return [bigram_mod[doc] for doc in texts]\n",
        "\n",
        "def make_trigrams(texts):\n",
        "    return [trigram_mod[bigram_mod[doc]] for doc in texts]\n",
        "\n",
        "def lemmatization(texts, allowed_postags=['NOUN', 'ADJ', 'VERB']):\n",
        "    \"\"\"https://spacy.io/api/annotation\"\"\"\n",
        "    texts_out = []\n",
        "    for sent in texts:\n",
        "        doc = nlp(\" \".join(sent)) \n",
        "        texts_out.append([token.lemma_ for token in doc if token.pos_ in allowed_postags])\n",
        "    return texts_out"
      ],
      "execution_count": null,
      "outputs": []
    },
    {
      "cell_type": "code",
      "metadata": {
        "id": "1Z_OW5W_Ny_X"
      },
      "source": [
        "data_words_nostops = remove_stopwords(data_words)"
      ],
      "execution_count": null,
      "outputs": []
    },
    {
      "cell_type": "code",
      "metadata": {
        "colab": {
          "base_uri": "https://localhost:8080/"
        },
        "id": "4yrBZn8pN04d",
        "outputId": "7f2f75c3-e684-4240-9253-9da01d5e94d2"
      },
      "source": [
        "type(data_words_nostops)"
      ],
      "execution_count": null,
      "outputs": [
        {
          "output_type": "execute_result",
          "data": {
            "text/plain": [
              "list"
            ]
          },
          "metadata": {},
          "execution_count": 18
        }
      ]
    },
    {
      "cell_type": "code",
      "metadata": {
        "colab": {
          "base_uri": "https://localhost:8080/"
        },
        "id": "u6HOIptyOiid",
        "outputId": "cf8026c2-3435-431d-829d-4f069c36819a"
      },
      "source": [
        "any(\"want\" in w for w in data_words_nostops)"
      ],
      "execution_count": null,
      "outputs": [
        {
          "output_type": "execute_result",
          "data": {
            "text/plain": [
              "False"
            ]
          },
          "metadata": {},
          "execution_count": 19
        }
      ]
    },
    {
      "cell_type": "code",
      "metadata": {
        "id": "FfJAtGcQU4_J",
        "colab": {
          "base_uri": "https://localhost:8080/"
        },
        "outputId": "88a1b6ef-0b06-41dd-abbf-d3dc0ec7d704"
      },
      "source": [
        "import spacy\n",
        "\n",
        "# Remove Stop Words\n",
        "data_words_nostops = remove_stopwords(data_words)\n",
        "\n",
        "# Form Bigrams\n",
        "data_words_bigrams = make_bigrams(data_words_nostops)\n",
        "\n",
        "# Initialize spacy 'en' model, keeping only tagger component (for efficiency)\n",
        "nlp = spacy.load(\"en_core_web_sm\", disable=['parser', 'ner'])\n",
        "\n",
        "# Do lemmatization keeping only noun, adj, vb, adv\n",
        "data_lemmatized = lemmatization(data_words_bigrams, allowed_postags=['NOUN', 'ADJ', 'VERB'])\n",
        "\n",
        "print(data_lemmatized[:1][0][:30])"
      ],
      "execution_count": null,
      "outputs": [
        {
          "output_type": "stream",
          "name": "stdout",
          "text": [
            "['statement', 'recent', 'change', 'aviation', 'security']\n"
          ]
        }
      ]
    },
    {
      "cell_type": "code",
      "metadata": {
        "id": "vgKOspONSRNs"
      },
      "source": [
        "data_lemmatized2 = remove_stopwords(data_lemmatized)"
      ],
      "execution_count": null,
      "outputs": []
    },
    {
      "cell_type": "code",
      "metadata": {
        "colab": {
          "base_uri": "https://localhost:8080/"
        },
        "id": "1D97Vz2uSa6S",
        "outputId": "9aab3a40-6447-4aed-c03e-00ede9ec4697"
      },
      "source": [
        "print(len(stop_words))\n",
        "print(len(data_lemmatized)-len(data_lemmatized2))"
      ],
      "execution_count": null,
      "outputs": [
        {
          "output_type": "stream",
          "name": "stdout",
          "text": [
            "235\n",
            "0\n"
          ]
        }
      ]
    },
    {
      "cell_type": "code",
      "metadata": {
        "colab": {
          "base_uri": "https://localhost:8080/"
        },
        "id": "YZc71V8ySrRA",
        "outputId": "e7c04821-b226-4644-fa49-8fe3cb27ad29"
      },
      "source": [
        "len(data_lemmatized2)"
      ],
      "execution_count": null,
      "outputs": [
        {
          "output_type": "execute_result",
          "data": {
            "text/plain": [
              "79997"
            ]
          },
          "metadata": {},
          "execution_count": 23
        }
      ]
    },
    {
      "cell_type": "code",
      "metadata": {
        "colab": {
          "base_uri": "https://localhost:8080/"
        },
        "id": "8n_k4B9AR8S1",
        "outputId": "b70806f1-e207-452b-de04-e13f5c3956fb"
      },
      "source": [
        "any(\"speak\" in w for w in data_lemmatized)"
      ],
      "execution_count": null,
      "outputs": [
        {
          "output_type": "execute_result",
          "data": {
            "text/plain": [
              "True"
            ]
          },
          "metadata": {},
          "execution_count": 24
        }
      ]
    },
    {
      "cell_type": "code",
      "metadata": {
        "id": "XzlbuEPiVTfA",
        "colab": {
          "base_uri": "https://localhost:8080/"
        },
        "outputId": "8fdbaa47-1495-49f9-cedd-918bc5ee042b"
      },
      "source": [
        "import gensim.corpora as corpora\n",
        "\n",
        "# Create Dictionary\n",
        "id2word = corpora.Dictionary(data_lemmatized2)\n",
        "\n",
        "# Create Corpus\n",
        "texts = data_lemmatized2\n",
        "\n",
        "# Term Document Frequency\n",
        "corpus = [id2word.doc2bow(text) for text in texts]\n",
        "\n",
        "# View\n",
        "print(corpus[:1][0][:30])"
      ],
      "execution_count": null,
      "outputs": [
        {
          "output_type": "stream",
          "name": "stdout",
          "text": [
            "[(0, 1), (1, 1), (2, 1), (3, 1), (4, 1)]\n"
          ]
        }
      ]
    },
    {
      "cell_type": "code",
      "metadata": {
        "id": "gvXtbvr3Vwow"
      },
      "source": [
        "# Build LDA model\n",
        "lda_model = gensim.models.LdaMulticore(corpus=corpus,\n",
        "                                       id2word=id2word,\n",
        "                                       num_topics=5, \n",
        "                                       random_state=100,\n",
        "                                       chunksize=100,\n",
        "                                       passes=10,\n",
        "                                       per_word_topics=True)"
      ],
      "execution_count": null,
      "outputs": []
    },
    {
      "cell_type": "code",
      "metadata": {
        "id": "_vyb9iD7jjk2",
        "colab": {
          "base_uri": "https://localhost:8080/"
        },
        "outputId": "6f8e665e-cad9-46b9-c552-94d7c44aa4c0"
      },
      "source": [
        "print(lda_model)"
      ],
      "execution_count": null,
      "outputs": [
        {
          "output_type": "stream",
          "name": "stdout",
          "text": [
            "LdaModel(num_terms=34481, num_topics=5, decay=0.5, chunksize=100)\n"
          ]
        }
      ]
    },
    {
      "cell_type": "code",
      "metadata": {
        "id": "juVGRlJpjjwm",
        "colab": {
          "base_uri": "https://localhost:8080/"
        },
        "outputId": "6a539ac5-1c02-42dd-a00b-f7375dc9ff56"
      },
      "source": [
        "!pip install pyLDAvis==2.1.2"
      ],
      "execution_count": null,
      "outputs": [
        {
          "output_type": "stream",
          "name": "stdout",
          "text": [
            "Requirement already satisfied: pyLDAvis==2.1.2 in /usr/local/lib/python3.7/dist-packages (2.1.2)\n",
            "Requirement already satisfied: numpy>=1.9.2 in /usr/local/lib/python3.7/dist-packages (from pyLDAvis==2.1.2) (1.19.5)\n",
            "Requirement already satisfied: future in /usr/local/lib/python3.7/dist-packages (from pyLDAvis==2.1.2) (0.16.0)\n",
            "Requirement already satisfied: joblib>=0.8.4 in /usr/local/lib/python3.7/dist-packages (from pyLDAvis==2.1.2) (1.1.0)\n",
            "Requirement already satisfied: jinja2>=2.7.2 in /usr/local/lib/python3.7/dist-packages (from pyLDAvis==2.1.2) (2.11.3)\n",
            "Requirement already satisfied: numexpr in /usr/local/lib/python3.7/dist-packages (from pyLDAvis==2.1.2) (2.7.3)\n",
            "Requirement already satisfied: funcy in /usr/local/lib/python3.7/dist-packages (from pyLDAvis==2.1.2) (1.16)\n",
            "Requirement already satisfied: pandas>=0.17.0 in /usr/local/lib/python3.7/dist-packages (from pyLDAvis==2.1.2) (1.1.5)\n",
            "Requirement already satisfied: wheel>=0.23.0 in /usr/local/lib/python3.7/dist-packages (from pyLDAvis==2.1.2) (0.37.0)\n",
            "Requirement already satisfied: pytest in /usr/local/lib/python3.7/dist-packages (from pyLDAvis==2.1.2) (3.6.4)\n",
            "Requirement already satisfied: scipy>=0.18.0 in /usr/local/lib/python3.7/dist-packages (from pyLDAvis==2.1.2) (1.4.1)\n",
            "Requirement already satisfied: MarkupSafe>=0.23 in /usr/local/lib/python3.7/dist-packages (from jinja2>=2.7.2->pyLDAvis==2.1.2) (2.0.1)\n",
            "Requirement already satisfied: python-dateutil>=2.7.3 in /usr/local/lib/python3.7/dist-packages (from pandas>=0.17.0->pyLDAvis==2.1.2) (2.8.2)\n",
            "Requirement already satisfied: pytz>=2017.2 in /usr/local/lib/python3.7/dist-packages (from pandas>=0.17.0->pyLDAvis==2.1.2) (2018.9)\n",
            "Requirement already satisfied: six>=1.5 in /usr/local/lib/python3.7/dist-packages (from python-dateutil>=2.7.3->pandas>=0.17.0->pyLDAvis==2.1.2) (1.15.0)\n",
            "Requirement already satisfied: atomicwrites>=1.0 in /usr/local/lib/python3.7/dist-packages (from pytest->pyLDAvis==2.1.2) (1.4.0)\n",
            "Requirement already satisfied: setuptools in /usr/local/lib/python3.7/dist-packages (from pytest->pyLDAvis==2.1.2) (57.4.0)\n",
            "Requirement already satisfied: pluggy<0.8,>=0.5 in /usr/local/lib/python3.7/dist-packages (from pytest->pyLDAvis==2.1.2) (0.7.1)\n",
            "Requirement already satisfied: more-itertools>=4.0.0 in /usr/local/lib/python3.7/dist-packages (from pytest->pyLDAvis==2.1.2) (8.11.0)\n",
            "Requirement already satisfied: attrs>=17.4.0 in /usr/local/lib/python3.7/dist-packages (from pytest->pyLDAvis==2.1.2) (21.2.0)\n",
            "Requirement already satisfied: py>=1.5.0 in /usr/local/lib/python3.7/dist-packages (from pytest->pyLDAvis==2.1.2) (1.11.0)\n"
          ]
        }
      ]
    },
    {
      "cell_type": "code",
      "metadata": {
        "id": "dyzdm708jjwm",
        "colab": {
          "base_uri": "https://localhost:8080/",
          "height": 916
        },
        "outputId": "e2585c16-0247-448a-d165-943c144ffcc1"
      },
      "source": [
        "import numpy as np\n",
        "import tqdm\n",
        "import pyLDAvis.gensim\n",
        "import pickle \n",
        "import pyLDAvis\n",
        "# Visualize the topics\n",
        "pyLDAvis.enable_notebook()\n",
        "LDAvis_prepared = pyLDAvis.gensim.prepare(lda_model, corpus, id2word,sort_topics=False)\n",
        "LDAvis_prepared"
      ],
      "execution_count": null,
      "outputs": [
        {
          "output_type": "stream",
          "name": "stderr",
          "text": [
            "/usr/local/lib/python3.7/dist-packages/past/types/oldstr.py:5: DeprecationWarning: Using or importing the ABCs from 'collections' instead of from 'collections.abc' is deprecated since Python 3.3,and in 3.9 it will stop working\n",
            "  from collections import Iterable\n"
          ]
        },
        {
          "output_type": "execute_result",
          "data": {
            "text/html": [
              "\n",
              "<link rel=\"stylesheet\" type=\"text/css\" href=\"https://cdn.rawgit.com/bmabey/pyLDAvis/files/ldavis.v1.0.0.css\">\n",
              "\n",
              "\n",
              "<div id=\"ldavis_el11651397146010942241643823862\"></div>\n",
              "<script type=\"text/javascript\">\n",
              "\n",
              "var ldavis_el11651397146010942241643823862_data = {\"mdsDat\": {\"x\": [-0.2078476353904688, -0.02270656697664356, -0.10409382891950836, 0.1527574546624629, 0.1818905766241575], \"y\": [0.07304852821092075, -0.23470650883027933, 0.07260215313798796, -0.041622902344104006, 0.1306787298254747], \"topics\": [1, 2, 3, 4, 5], \"cluster\": [1, 1, 1, 1, 1], \"Freq\": [17.040884848498, 16.154800708647777, 18.315566729270635, 26.25014172167673, 22.238605991906862]}, \"tinfo\": {\"Term\": [\"bill\", \"child\", \"amendment\", \"trade\", \"local\", \"care\", \"school\", \"scheme\", \"health\", \"regulation\", \"family\", \"legislation\", \"money\", \"test\", \"house\", \"world\", \"sector\", \"home\", \"cost\", \"law\", \"job\", \"increase\", \"woman\", \"ensure\", \"clause\", \"vote\", \"fund\", \"new\", \"industry\", \"pandemic\", \"money\", \"pension\", \"transport\", \"income\", \"tax\", \"budget\", \"bank\", \"loan\", \"debt\", \"rural\", \"bus\", \"nhs\", \"finance\", \"employee\", \"spending\", \"price\", \"buy\", \"car\", \"taxpayer\", \"flight\", \"airport\", \"pound\", \"equipment\", \"rail\", \"station\", \"winter\", \"passenger\", \"capital\", \"unemployment\", \"construction\", \"pandemic\", \"cost\", \"town\", \"green\", \"scheme\", \"employment\", \"company\", \"payment\", \"financial\", \"job\", \"fund\", \"infrastructure\", \"increase\", \"small\", \"investment\", \"rate\", \"crisis\", \"sector\", \"funding\", \"low\", \"benefit\", \"spend\", \"economy\", \"project\", \"worker\", \"need\", \"measure\", \"local\", \"new\", \"help\", \"public\", \"high\", \"service\", \"provide\", \"use\", \"look\", \"trade\", \"global\", \"student\", \"farmer\", \"export\", \"farm\", \"fishing\", \"welsh\", \"agriculture\", \"university\", \"hospitality\", \"production\", \"trading\", \"scientific\", \"import\", \"fish\", \"partnership\", \"pupil\", \"tourism\", \"science\", \"quota\", \"port\", \"fishery\", \"farming\", \"transition\", \"aviation\", \"college\", \"emission\", \"agricultural\", \"producer\", \"environmental\", \"skill\", \"environment\", \"food\", \"product\", \"market\", \"world\", \"industry\", \"standard\", \"develop\", \"future\", \"opportunity\", \"development\", \"free\", \"economic\", \"agreement\", \"international\", \"continue\", \"ensure\", \"important\", \"nation\", \"role\", \"new\", \"part\", \"commitment\", \"policy\", \"include\", \"need\", \"sector\", \"area\", \"agree\", \"set\", \"high\", \"deliver\", \"child\", \"care\", \"school\", \"woman\", \"virus\", \"vaccine\", \"testing\", \"council\", \"parent\", \"trace\", \"hospital\", \"charity\", \"medical\", \"infection\", \"fire\", \"disease\", \"girl\", \"church\", \"teacher\", \"domestic_abuse\", \"flood\", \"adult\", \"app\", \"transplant\", \"accommodation\", \"symptom\", \"black\", \"cancer\", \"pub\", \"disability\", \"vulnerable\", \"resident\", \"health\", \"family\", \"tier\", \"death\", \"test\", \"home\", \"staff\", \"contact\", \"social\", \"victim\", \"young\", \"local\", \"safe\", \"community\", \"police\", \"authority\", \"life\", \"covid\", \"need\", \"service\", \"help\", \"live\", \"lockdown\", \"ensure\", \"area\", \"number\", \"public\", \"issue\", \"provide\", \"include\", \"look\", \"bill\", \"amendment\", \"regulation\", \"legislation\", \"clause\", \"legal\", \"court\", \"scrutiny\", \"prison\", \"sentence\", \"draft\", \"criminal\", \"procedure\", \"offence\", \"enforcement\", \"amend\", \"offender\", \"transparency\", \"proceeding\", \"section\", \"operator\", \"code\", \"approve\", \"schedule\", \"consent\", \"legislative\", \"lawyer\", \"licence\", \"breach\", \"prisoner\", \"committee\", \"consultation\", \"apply\", \"law\", \"provision\", \"relevant\", \"obligation\", \"information\", \"process\", \"requirement\", \"appropriate\", \"purpose\", \"power\", \"judge\", \"propose\", \"case\", \"report\", \"require\", \"baroness\", \"refer\", \"concern\", \"issue\", \"consider\", \"seek\", \"point\", \"act\", \"matter\", \"change\", \"raise\", \"review\", \"use\", \"clear\", \"set\", \"important\", \"public\", \"part\", \"ensure\", \"ask\", \"house\", \"provide\", \"vote\", \"political\", \"opposition\", \"election\", \"commonsu\", \"fight\", \"bench\", \"democracy\", \"devolution\", \"referendum\", \"war\", \"attack\", \"peace\", \"sovereignty\", \"military\", \"veteran\", \"westminster\", \"elect\", \"democratic\", \"divide\", \"genocide\", \"defend\", \"politic\", \"tonight\", \"murder\", \"truth\", \"mayor\", \"humanitarian\", \"elapse\", \"sovereign\", \"speaker\", \"side\", \"faith\", \"minute\", \"history\", \"party\", \"leader\", \"chamber\", \"speech\", \"conservative\", \"honour\", \"let\", \"stand\", \"house\", \"call\", \"try\", \"parliament\", \"listen\", \"colleague\", \"scottish\", \"tell\", \"talk\", \"happen\", \"word\", \"british\", \"fact\", \"agree\", \"believe\", \"seem\", \"point\", \"ask\", \"find\", \"minister\", \"hope\", \"decision\", \"allow\", \"issue\", \"need\", \"end\"], \"Freq\": [21546.0, 14118.0, 16470.0, 10560.0, 16915.0, 9396.0, 8340.0, 10617.0, 9320.0, 9427.0, 8246.0, 9230.0, 6779.0, 8219.0, 14172.0, 9424.0, 9839.0, 8846.0, 6396.0, 10729.0, 9813.0, 8640.0, 5513.0, 19817.0, 6411.0, 5641.0, 7001.0, 17459.0, 6430.0, 4704.0, 6778.864791427491, 4442.247490897868, 3479.3331878712484, 3146.063063411986, 3011.5950752885847, 2311.886829185455, 2087.0263545748076, 1707.7629014131574, 1696.5339326152675, 1696.7564005549505, 1638.4467864332169, 1532.0057404055406, 1510.828180689217, 1450.4967202141822, 1312.737101569437, 1282.5149780836625, 1260.6554938576458, 1112.403808633936, 1075.6481962840976, 1082.415020774553, 1069.8081388921244, 1016.2105345470256, 1027.8781377924925, 999.6446183242043, 964.519706931254, 950.0013907394801, 941.2735424112527, 916.6687344024733, 871.2372377053927, 828.4466802036126, 4631.245877921346, 6146.872461930277, 2027.5702451678605, 1618.196541765966, 8602.081978129027, 2196.6582995403014, 4799.903243129769, 2800.0479735215267, 5035.690035162235, 7266.941186072255, 5367.054022167858, 2261.254185484752, 6202.424423380964, 3945.358954859061, 3092.4493858495707, 3613.6764259102465, 4428.449729732408, 6184.895849295993, 3800.519540611671, 2901.8241335233383, 4673.997348281014, 3133.7922578916405, 4247.023654567205, 2280.8253367203592, 3474.436336095468, 8473.129477997913, 4550.908650067455, 5631.739728335497, 5494.013443351665, 4911.382694835734, 4823.194796223671, 4032.958719837479, 3963.0387633069704, 3833.1700897887877, 3734.7081176076226, 3183.4471750889584, 10560.101059350542, 3131.2598587341336, 3047.2838503389585, 2829.7677001929856, 1847.263362374413, 1684.050538687675, 1565.8950263579923, 1496.6389136490122, 1461.0864808829901, 1451.9630579882398, 1431.4502476188923, 1326.5511432110006, 1305.6132426308611, 1238.5349597085337, 1187.2934082604284, 1153.8689372644772, 1161.9886797491035, 1154.7862144097596, 1147.5535339006467, 1110.0883683388975, 1093.057401759246, 982.7098702341364, 972.2370672934801, 935.2377694352483, 945.6003605962023, 903.0733316221609, 888.5751581416355, 816.8394102539827, 810.2831512961762, 787.8287781840152, 2424.3279120742104, 2000.8611822668336, 3207.5381846808546, 4714.132001139982, 1791.8956654362628, 3439.6183929612052, 6625.214650346126, 4763.80366240636, 4352.410879808149, 2680.5965325363645, 6092.198277278946, 5358.175011152526, 2522.9903976583573, 3591.3165530969677, 3599.8529878798713, 4556.914421224507, 3698.0545406163083, 5788.741007209377, 7187.448832850773, 6944.3567968533125, 3214.3922665154682, 3055.1034323835006, 5874.784114152996, 5844.4747492414635, 3160.8641453001087, 3859.0870238002813, 4885.259640930706, 6303.474518697303, 3654.3396831917453, 3763.1184500285563, 3693.09648232881, 3356.8187849294186, 3127.4276401821003, 3059.7944889988844, 14117.668154583385, 9395.7685540967, 8339.117880332233, 5512.826134709844, 4350.406504895783, 3215.7715983936737, 3034.8508090323294, 2696.5139444530805, 2468.6441911119805, 2387.9451502470392, 2086.9067143427596, 1949.6191677036632, 1561.6584806488515, 1467.4713841036498, 1404.8900409802966, 1323.0988144897697, 1193.8032554323058, 1150.140369494553, 1109.7563961857834, 1069.5948451496458, 1068.063900672045, 953.6590514324913, 911.2157580531913, 943.5597453287317, 865.1692434885193, 841.9948254383751, 802.5302335138106, 790.908277143411, 784.3276305357592, 749.1789239229768, 3882.7527813326965, 1795.4809253949716, 8798.016843374311, 7808.717125739262, 2488.2697665906267, 2637.558104004899, 7524.790088750875, 7318.2848486562725, 4724.921245341366, 2401.3501656613485, 3871.2198036869845, 4165.764608581444, 3980.8953821773375, 11283.368421895497, 3552.101362076726, 7029.178297774571, 4221.841719809963, 4827.822858307055, 4337.727846417695, 3944.1216973106166, 12295.37916148665, 5820.984046465206, 5386.090198601819, 4085.6490090177062, 3162.9360022275573, 5676.272935625241, 4204.433103488276, 4332.6245018463405, 4514.279304338639, 4746.7296215697, 4220.914731309196, 4033.0065845340873, 3962.897435173884, 21545.953409816255, 16469.442506588784, 9426.205918959124, 9229.152729077381, 6410.461319125823, 5352.57455434967, 3980.5825334511414, 3281.1895092164546, 2771.566153828066, 2102.187302343299, 1935.9777293344903, 1908.9022028338347, 1790.246253885183, 1623.6759795989979, 1558.1344191770136, 1446.635942767501, 1319.4849441559606, 1293.3412761815691, 1265.9520352314016, 1233.233306296786, 1240.6517386134342, 1196.5824551297421, 1180.6276134873544, 1155.0508823880905, 1129.2139652465066, 1130.623640421994, 1070.0835042641606, 1051.3591830207322, 1047.4143293274606, 1038.3045822263907, 4509.638459139492, 2985.166585149012, 5076.290318358932, 9414.288708893171, 6417.428312129249, 2270.1313082884467, 2089.3067216270056, 4319.081831266031, 6983.933020983582, 2613.3069209088226, 2699.6481713708404, 2663.4097913992987, 6501.768261354155, 1982.675883633444, 3233.2913619783353, 8090.211716727805, 6716.9904416320405, 5043.247605398654, 3759.0236026513608, 3732.815362958437, 7111.449081925384, 10545.540200251566, 5195.731397506116, 4983.057760262922, 10473.765710502188, 4136.630571878263, 5489.625283690636, 7077.1396941205285, 5879.590632720564, 5145.582102904277, 7040.728560183067, 5389.958625117994, 5308.997225767297, 6560.350425445481, 5472.411223197314, 5503.589656388563, 5478.547646644723, 5103.005846977838, 5084.724875997924, 5087.037640818543, 5640.537960666618, 4104.265703003691, 3019.6750477330966, 2811.0513143702087, 2601.436713499146, 2343.1826028895616, 1958.5080284005676, 1898.902711658542, 1815.08943145003, 1473.1321635063075, 1400.3206828424898, 1381.6039655197521, 1303.7671156774788, 1277.7470111884047, 1193.9946322664784, 1114.968717578276, 1085.2628338544412, 1053.2381723775345, 1015.0418627116334, 1038.0669587233897, 1028.1033413850587, 986.7210959206832, 906.4910400406549, 902.8599051109818, 848.1738868134361, 809.8258006534695, 801.9051771598733, 781.9951640799077, 799.5980791055988, 776.5288266815526, 2075.1842864261957, 3975.2515117270723, 1578.8184208666385, 2464.5992692791096, 2337.0602954689557, 5172.679737078769, 3938.3310303838807, 2954.5385593463307, 3442.7034886411557, 2754.252224035144, 1320.8371146503914, 4856.510290634774, 4520.117803264984, 9080.53676477199, 5871.689687758776, 5363.825397094437, 6092.836918566812, 2602.3489218113386, 3496.4320099985193, 2720.561298590017, 5142.516557392839, 4783.648992480167, 4809.000612983994, 2964.6779680696213, 3570.3578292720836, 3923.7712132075967, 5434.421787127159, 3712.415622132131, 3355.6384849429837, 5732.0762890041715, 4928.182643124051, 3975.0713106599137, 4394.709778582344, 4161.621605101828, 3975.6166810853892, 3542.1840121609, 4012.2883133358378, 4310.967768372616, 3450.213058245445], \"Total\": [21546.0, 14118.0, 16470.0, 10560.0, 16915.0, 9396.0, 8340.0, 10617.0, 9320.0, 9427.0, 8246.0, 9230.0, 6779.0, 8219.0, 14172.0, 9424.0, 9839.0, 8846.0, 6396.0, 10729.0, 9813.0, 8640.0, 5513.0, 19817.0, 6411.0, 5641.0, 7001.0, 17459.0, 6430.0, 4704.0, 6779.743945060642, 4443.121373228331, 3480.2089971644155, 3146.933438672177, 3012.467145376853, 2312.762757263525, 2087.903168932445, 1708.6282531255622, 1697.4046308678423, 1697.6320899618042, 1639.31959262734, 1532.890906056521, 1511.707186690654, 1451.3709103933284, 1313.6088995598673, 1283.3915480927635, 1261.5411231154044, 1113.2923074434423, 1076.5222846713139, 1083.2999951329757, 1070.694843859456, 1017.0902448789882, 1028.7744729649676, 1000.5210523109247, 965.3973997352787, 950.8808649452251, 942.1577450466931, 917.5425269885985, 872.1087007177706, 829.3293091768197, 4704.698264794029, 6396.582195566989, 2067.622944391916, 1655.2690663464045, 10617.957030525704, 2370.664840277687, 5703.5327336743085, 3177.515159243568, 6393.024526843775, 9813.584720678256, 7001.664877416942, 2580.38832270152, 8640.817059391631, 5282.5147601091985, 3883.1626982430384, 4771.172285272125, 6269.615486420258, 9839.897794213202, 5373.721045592613, 3789.3755454351317, 7918.554765763633, 4409.582160529278, 7161.005222931289, 2838.0866481145576, 5951.736776503274, 36278.69365544977, 10826.29896591342, 16915.7803746898, 17459.377592959674, 13718.811715213356, 16309.253442184468, 9751.794356982338, 13041.501892170314, 15798.257680464209, 15842.903743084697, 17173.778357735773, 10560.982865150636, 3132.1508161037464, 3048.167796036344, 2830.6445196415552, 1848.142522542831, 1684.9283820404994, 1566.7699580713966, 1497.5281707046563, 1461.9641569141263, 1452.8487528372286, 1432.3506013838296, 1327.4314311696023, 1306.5008691554606, 1239.4386214419462, 1188.1693411514902, 1154.7436717119965, 1162.8786648151777, 1155.6796168812052, 1148.4447303863747, 1110.9784430958641, 1093.9380057380513, 983.5912111471691, 973.1125428751, 936.1137322839396, 946.4969867315918, 903.962545793982, 889.4649495981065, 817.7212372522031, 811.159212240445, 788.7095009368207, 2428.8995881140704, 2069.4266667195175, 3527.5965313684533, 5459.896273561447, 1960.0983451167447, 4327.2759339586555, 9424.605119035406, 6430.35259415598, 6261.20759220225, 3576.0275825987214, 10729.886794392367, 9355.699962779308, 3340.3368052017418, 5702.690972893119, 6144.37896393504, 8973.782117218743, 6725.838894683819, 13877.81423059616, 19817.367955451733, 19178.448470677187, 5561.447419738451, 5106.243004762116, 17459.377592959674, 17298.946509992755, 5827.323442290281, 8827.495436073636, 15385.049210629626, 36278.69365544977, 9839.897794213202, 11640.450811576751, 15678.820519174029, 10827.235014760827, 9751.794356982338, 7368.139972748591, 14118.561675271527, 9396.658634824642, 8340.003852665002, 5513.719473778416, 4351.295931480553, 3216.663987910746, 3035.739771813783, 2697.412425575324, 2469.5368888070534, 2388.832316509659, 2087.7932202609322, 1950.509501122585, 1562.5595992549113, 1468.3577568395256, 1405.7778087759623, 1323.995036314787, 1194.6998494082022, 1151.0380633545678, 1110.6437870650648, 1070.4815833882037, 1068.9714429651144, 954.5489276992012, 912.1223222424463, 944.5304324049528, 866.0645047399701, 842.8821995593959, 803.4262827616195, 791.7943720922124, 785.2233767461711, 750.0694597655133, 3968.9939167830726, 1825.7313505758343, 9320.787418612046, 8246.972667072489, 2550.606223889803, 2751.5126796632544, 8219.38054088044, 8846.880780961388, 5485.449286891104, 2623.056102575872, 4550.671629753997, 5050.17591547013, 4943.691866495044, 16915.7803746898, 4372.536865725671, 10492.721329280133, 5553.07561070098, 7235.454688325832, 6302.4900658126635, 5840.1568146631425, 36278.69365544977, 13041.501892170314, 13718.811715213356, 7884.918519157221, 4464.965293425271, 19817.367955451733, 11640.450811576751, 13023.907751590912, 16309.253442184468, 21500.004750395798, 15798.257680464209, 15385.049210629626, 17173.778357735773, 21546.84961870195, 16470.328073080193, 9427.094855849755, 9230.042213979736, 6411.346644695503, 5353.461214569063, 3981.4677161166014, 3282.0841555525844, 2772.4542978057593, 2103.069515191257, 1936.8629686415134, 1909.7902223853155, 1791.1343316229288, 1624.5594803628956, 1559.0282233066596, 1447.5210498952663, 1320.3684022757257, 1294.2456869221774, 1266.8407108529464, 1234.1310113671652, 1241.5630760060346, 1197.4716135882545, 1181.5175953360247, 1155.9385534583996, 1130.1011310126821, 1131.519304725456, 1070.9733358459262, 1052.245145686732, 1048.3050861591466, 1039.190969900515, 4638.971946248784, 3104.918238773213, 5435.75820703281, 10729.692979796519, 7152.733072505888, 2395.003124758608, 2206.6246172238675, 4981.320956919612, 8849.900367058555, 2919.5079180915345, 3108.4592685327048, 3075.1704803528296, 9114.007595765896, 2165.6813882582746, 3957.7275363817594, 12690.426883029662, 10479.030492874825, 7238.570069139592, 4905.741848676595, 4883.872651438281, 11842.983903698712, 21500.004750395798, 7843.541238035603, 7452.771412295337, 21636.603022827832, 5736.613888692023, 9135.467490345618, 13709.509970243496, 10365.098502218972, 8553.842362534686, 15842.903743084697, 10888.347919721913, 10827.235014760827, 19178.448470677187, 16309.253442184468, 17298.946509992755, 19817.367955451733, 15008.062218738058, 14172.832074509508, 15798.257680464209, 5641.3803612320735, 4105.111891455306, 3020.52261538886, 2811.89575186021, 2602.2787262082543, 2344.0408132644566, 1959.3581903893848, 1899.7427675113036, 1815.9378091293331, 1473.979789882177, 1401.1642612623068, 1382.4498650742541, 1304.6101171943944, 1278.5994192297042, 1194.849029823859, 1115.8138216162456, 1086.1096645978575, 1054.0800984226642, 1015.8875751161797, 1038.93429116951, 1028.9632729306559, 987.5712836848685, 907.3334305488669, 903.701235300092, 849.031860124389, 810.6722482940927, 802.7664745672452, 782.8392226887258, 800.4684036460445, 777.3927049061323, 2158.8809813728362, 4265.830492108044, 1643.0304922140774, 2642.8277338848866, 2514.4315393073534, 6087.178998189702, 4608.8054038112805, 3375.2130457239186, 4099.450243472136, 3200.4511248703193, 1379.164246990867, 6385.098494467387, 5872.623148917251, 14172.832074509508, 8719.025748860717, 7932.868083985983, 9317.36792532467, 3276.030760946702, 4897.610192383583, 3544.459982541049, 8964.642361841625, 8601.202110606773, 8785.428187896749, 4384.6234558291335, 6346.092256237875, 7879.902122689381, 15678.820519174029, 7091.0716473516195, 5874.133440547053, 21636.603022827832, 15008.062218738058, 8963.53659283863, 11631.999140273556, 10772.423315599419, 9519.29167541676, 9167.924424940544, 21500.004750395798, 36278.69365544977, 10880.834504284527], \"Category\": [\"Default\", \"Default\", \"Default\", \"Default\", \"Default\", \"Default\", \"Default\", \"Default\", \"Default\", \"Default\", \"Default\", \"Default\", \"Default\", \"Default\", \"Default\", \"Default\", \"Default\", \"Default\", \"Default\", \"Default\", \"Default\", \"Default\", \"Default\", \"Default\", \"Default\", \"Default\", \"Default\", \"Default\", \"Default\", \"Default\", \"Topic1\", \"Topic1\", \"Topic1\", \"Topic1\", \"Topic1\", \"Topic1\", \"Topic1\", \"Topic1\", \"Topic1\", \"Topic1\", \"Topic1\", \"Topic1\", \"Topic1\", \"Topic1\", \"Topic1\", \"Topic1\", \"Topic1\", \"Topic1\", \"Topic1\", \"Topic1\", \"Topic1\", \"Topic1\", \"Topic1\", \"Topic1\", \"Topic1\", \"Topic1\", \"Topic1\", \"Topic1\", \"Topic1\", \"Topic1\", \"Topic1\", \"Topic1\", \"Topic1\", \"Topic1\", \"Topic1\", \"Topic1\", \"Topic1\", \"Topic1\", \"Topic1\", \"Topic1\", \"Topic1\", \"Topic1\", \"Topic1\", \"Topic1\", \"Topic1\", \"Topic1\", \"Topic1\", \"Topic1\", \"Topic1\", \"Topic1\", \"Topic1\", \"Topic1\", \"Topic1\", \"Topic1\", \"Topic1\", \"Topic1\", \"Topic1\", \"Topic1\", \"Topic1\", \"Topic1\", \"Topic1\", \"Topic1\", \"Topic1\", \"Topic1\", \"Topic1\", \"Topic1\", \"Topic2\", \"Topic2\", \"Topic2\", \"Topic2\", \"Topic2\", \"Topic2\", \"Topic2\", \"Topic2\", \"Topic2\", \"Topic2\", \"Topic2\", \"Topic2\", \"Topic2\", \"Topic2\", \"Topic2\", \"Topic2\", \"Topic2\", \"Topic2\", \"Topic2\", \"Topic2\", \"Topic2\", \"Topic2\", \"Topic2\", \"Topic2\", \"Topic2\", \"Topic2\", \"Topic2\", \"Topic2\", \"Topic2\", \"Topic2\", \"Topic2\", \"Topic2\", \"Topic2\", \"Topic2\", \"Topic2\", \"Topic2\", \"Topic2\", \"Topic2\", \"Topic2\", \"Topic2\", \"Topic2\", \"Topic2\", \"Topic2\", \"Topic2\", \"Topic2\", \"Topic2\", \"Topic2\", \"Topic2\", \"Topic2\", \"Topic2\", \"Topic2\", \"Topic2\", \"Topic2\", \"Topic2\", \"Topic2\", \"Topic2\", \"Topic2\", \"Topic2\", \"Topic2\", \"Topic2\", \"Topic2\", \"Topic2\", \"Topic2\", \"Topic2\", \"Topic3\", \"Topic3\", \"Topic3\", \"Topic3\", \"Topic3\", \"Topic3\", \"Topic3\", \"Topic3\", \"Topic3\", \"Topic3\", \"Topic3\", \"Topic3\", \"Topic3\", \"Topic3\", \"Topic3\", \"Topic3\", \"Topic3\", \"Topic3\", \"Topic3\", \"Topic3\", \"Topic3\", \"Topic3\", \"Topic3\", \"Topic3\", \"Topic3\", \"Topic3\", \"Topic3\", \"Topic3\", \"Topic3\", \"Topic3\", \"Topic3\", \"Topic3\", \"Topic3\", \"Topic3\", \"Topic3\", \"Topic3\", \"Topic3\", \"Topic3\", \"Topic3\", \"Topic3\", \"Topic3\", \"Topic3\", \"Topic3\", \"Topic3\", \"Topic3\", \"Topic3\", \"Topic3\", \"Topic3\", \"Topic3\", \"Topic3\", \"Topic3\", \"Topic3\", \"Topic3\", \"Topic3\", \"Topic3\", \"Topic3\", \"Topic3\", \"Topic3\", \"Topic3\", \"Topic3\", \"Topic3\", \"Topic3\", \"Topic3\", \"Topic4\", \"Topic4\", \"Topic4\", \"Topic4\", \"Topic4\", \"Topic4\", \"Topic4\", \"Topic4\", \"Topic4\", \"Topic4\", \"Topic4\", \"Topic4\", \"Topic4\", \"Topic4\", \"Topic4\", \"Topic4\", \"Topic4\", \"Topic4\", \"Topic4\", \"Topic4\", \"Topic4\", \"Topic4\", \"Topic4\", \"Topic4\", \"Topic4\", \"Topic4\", \"Topic4\", \"Topic4\", \"Topic4\", \"Topic4\", \"Topic4\", \"Topic4\", \"Topic4\", \"Topic4\", \"Topic4\", \"Topic4\", \"Topic4\", \"Topic4\", \"Topic4\", \"Topic4\", \"Topic4\", \"Topic4\", \"Topic4\", \"Topic4\", \"Topic4\", \"Topic4\", \"Topic4\", \"Topic4\", \"Topic4\", \"Topic4\", \"Topic4\", \"Topic4\", \"Topic4\", \"Topic4\", \"Topic4\", \"Topic4\", \"Topic4\", \"Topic4\", \"Topic4\", \"Topic4\", \"Topic4\", \"Topic4\", \"Topic4\", \"Topic4\", \"Topic4\", \"Topic4\", \"Topic4\", \"Topic4\", \"Topic4\", \"Topic4\", \"Topic5\", \"Topic5\", \"Topic5\", \"Topic5\", \"Topic5\", \"Topic5\", \"Topic5\", \"Topic5\", \"Topic5\", \"Topic5\", \"Topic5\", \"Topic5\", \"Topic5\", \"Topic5\", \"Topic5\", \"Topic5\", \"Topic5\", \"Topic5\", \"Topic5\", \"Topic5\", \"Topic5\", \"Topic5\", \"Topic5\", \"Topic5\", \"Topic5\", \"Topic5\", \"Topic5\", \"Topic5\", \"Topic5\", \"Topic5\", \"Topic5\", \"Topic5\", \"Topic5\", \"Topic5\", \"Topic5\", \"Topic5\", \"Topic5\", \"Topic5\", \"Topic5\", \"Topic5\", \"Topic5\", \"Topic5\", \"Topic5\", \"Topic5\", \"Topic5\", \"Topic5\", \"Topic5\", \"Topic5\", \"Topic5\", \"Topic5\", \"Topic5\", \"Topic5\", \"Topic5\", \"Topic5\", \"Topic5\", \"Topic5\", \"Topic5\", \"Topic5\", \"Topic5\", \"Topic5\", \"Topic5\", \"Topic5\", \"Topic5\", \"Topic5\", \"Topic5\", \"Topic5\", \"Topic5\", \"Topic5\", \"Topic5\"], \"logprob\": [30.0, 29.0, 28.0, 27.0, 26.0, 25.0, 24.0, 23.0, 22.0, 21.0, 20.0, 19.0, 18.0, 17.0, 16.0, 15.0, 14.0, 13.0, 12.0, 11.0, 10.0, 9.0, 8.0, 7.0, 6.0, 5.0, 4.0, 3.0, 2.0, 1.0, -4.751200199127197, -5.173900127410889, -5.4182000160217285, -5.518899917602539, -5.5625, -5.827000141143799, -5.929299831390381, -6.129799842834473, -6.13640022277832, -6.136300086975098, -6.171299934387207, -6.238399982452393, -6.252399921417236, -6.293099880218506, -6.392899990081787, -6.416200160980225, -6.4334001541137695, -6.558499813079834, -6.592100143432617, -6.5858001708984375, -6.597499847412109, -6.648900032043457, -6.637499809265137, -6.66540002822876, -6.701099872589111, -6.716300010681152, -6.725500106811523, -6.751999855041504, -6.8028998374938965, -6.8531999588012695, -5.132199764251709, -4.849100112915039, -5.958199977874756, -6.183700084686279, -4.513000011444092, -5.8780999183654785, -5.096399784088135, -5.63539981842041, -5.048500061035156, -4.681700229644775, -4.9847002029418945, -5.849100112915039, -4.840099811553955, -5.292500019073486, -5.536099910736084, -5.380300045013428, -5.177000045776367, -4.842899799346924, -5.329899787902832, -5.599699974060059, -5.123000144958496, -5.522799968719482, -5.218800067901611, -5.8404998779296875, -5.419600009918213, -4.52810001373291, -5.149700164794922, -4.936600208282471, -4.961400032043457, -5.073500156402588, -5.091599941253662, -5.270500183105469, -5.288000106811523, -5.321300029754639, -5.347300052642822, -5.5071001052856445, -4.254499912261963, -5.470200061798096, -5.497399806976318, -5.571400165557861, -5.997900009155273, -6.090400218963623, -6.1631999015808105, -6.208399772644043, -6.232399940490723, -6.238699913024902, -6.252900123596191, -6.328999996185303, -6.344900131225586, -6.39769983291626, -6.439899921417236, -6.468500137329102, -6.46150016784668, -6.467700004577637, -6.473999977111816, -6.507199764251709, -6.522600173950195, -6.6290998458862305, -6.639800071716309, -6.678599834442139, -6.667600154876709, -6.713600158691406, -6.729800224304199, -6.813899993896484, -6.822000026702881, -6.850100040435791, -5.726099967956543, -5.918000221252441, -5.446100234985352, -5.061100006103516, -6.028299808502197, -5.376299858093262, -4.720699787139893, -5.050600051879883, -5.140900135040283, -5.6255998611450195, -4.804599761962891, -4.933000087738037, -5.686200141906738, -5.333099842071533, -5.330699920654297, -5.09499979019165, -5.303800106048584, -4.8557000160217285, -4.6392998695373535, -4.673699855804443, -5.443999767303467, -5.494800090789795, -4.84089994430542, -4.846099853515625, -5.4608001708984375, -5.261199951171875, -5.025400161743164, -4.770500183105469, -5.315700054168701, -5.286399841308594, -5.305200099945068, -5.400599956512451, -5.471399784088135, -5.493299961090088, -4.089700222015381, -4.4969000816345215, -4.616199970245361, -5.030099868774414, -5.266900062561035, -5.5690999031066895, -5.626999855041504, -5.745200157165527, -5.833499908447266, -5.866700172424316, -6.001500129699707, -6.069499969482422, -6.291399955749512, -6.353600025177002, -6.397200107574463, -6.457200050354004, -6.559999942779541, -6.597300052642822, -6.632999897003174, -6.669899940490723, -6.671299934387207, -6.784599781036377, -6.830100059509277, -6.795199871063232, -6.881999969482422, -6.90910005569458, -6.957099914550781, -6.971700191497803, -6.980100154876709, -7.025899887084961, -5.3805999755859375, -6.151899814605713, -4.562600135803223, -4.6819000244140625, -5.8256001472473145, -5.767300128936768, -4.718900203704834, -4.746799945831299, -5.184299945831299, -5.861100196838379, -5.383600234985352, -5.310299873352051, -5.355599880218506, -4.313799858093262, -5.469600200653076, -4.787099838256836, -5.296899795532227, -5.162799835205078, -5.269800186157227, -5.3649001121521, -4.22790002822876, -4.9756999015808105, -5.053299903869629, -5.329699993133545, -5.585700035095215, -5.000899791717529, -5.301000118255615, -5.270999908447266, -5.229899883270264, -5.179699897766113, -5.297100067138672, -5.342599868774414, -5.360199928283691, -4.026899814605713, -4.295599937438965, -4.853600025177002, -4.87470006942749, -5.239099979400635, -5.41949987411499, -5.71560001373291, -5.908899784088135, -6.077700138092041, -6.354100227355957, -6.436500072479248, -6.450500011444092, -6.514699935913086, -6.612400054931641, -6.653600215911865, -6.727799892425537, -6.819799900054932, -6.839799880981445, -6.861199855804443, -6.887400150299072, -6.881400108337402, -6.917600154876709, -6.931000232696533, -6.952899932861328, -6.975599765777588, -6.974299907684326, -7.029300212860107, -7.046999931335449, -7.0507001876831055, -7.059500217437744, -5.59089994430542, -6.003399848937988, -5.472499847412109, -4.854800224304199, -5.238100051879883, -6.277200222015381, -6.360199928283691, -5.633999824523926, -5.153500080108643, -6.136499881744385, -6.104000091552734, -6.117499828338623, -5.224999904632568, -6.412600040435791, -5.923600196838379, -5.006400108337402, -5.192399978637695, -5.479000091552734, -5.772900104522705, -5.779900074005127, -5.13539981842041, -4.741399765014648, -5.44920015335083, -5.491000175476074, -4.748199939727783, -5.677199840545654, -5.394199848175049, -5.140200138092041, -5.3256001472473145, -5.458899974822998, -5.145400047302246, -5.412499904632568, -5.427700042724609, -5.216000080108643, -5.39739990234375, -5.39169979095459, -5.396200180053711, -5.467199802398682, -5.470799922943115, -5.470399856567383, -5.201300144195557, -5.519199848175049, -5.826099872589111, -5.89769983291626, -5.975200176239014, -6.079699993133545, -6.258999824523926, -6.289999961853027, -6.335100173950195, -6.543799877166748, -6.5945000648498535, -6.607999801635742, -6.665999889373779, -6.686100006103516, -6.753900051116943, -6.822400093078613, -6.849400043487549, -6.87939977645874, -6.916299819946289, -6.893899917602539, -6.903500080108643, -6.9446001052856445, -7.029399871826172, -7.033400058746338, -7.095900058746338, -7.142199993133545, -7.1519999504089355, -7.17710018157959, -7.154900074005127, -7.184199810028076, -6.201200008392334, -5.55109977722168, -6.474599838256836, -6.029200077056885, -6.082300186157227, -5.287799835205078, -5.560500144958496, -5.847899913787842, -5.695000171661377, -5.918099880218506, -6.6529998779296875, -5.350900173187256, -5.422699928283691, -4.725100040435791, -5.161099910736084, -5.2515997886657715, -5.124100208282471, -5.974800109863281, -5.679500102996826, -5.9303998947143555, -5.293700218200684, -5.366000175476074, -5.3607001304626465, -5.8445000648498535, -5.658599853515625, -5.564199924468994, -5.238500118255615, -5.619500160217285, -5.720600128173828, -5.185200214385986, -5.336299896240234, -5.551199913024902, -5.450799942016602, -5.505300045013428, -5.55109977722168, -5.666500091552734, -5.541900157928467, -5.470099925994873, -5.692800045013428], \"loglift\": [30.0, 29.0, 28.0, 27.0, 26.0, 25.0, 24.0, 23.0, 22.0, 21.0, 20.0, 19.0, 18.0, 17.0, 16.0, 15.0, 14.0, 13.0, 12.0, 11.0, 10.0, 9.0, 8.0, 7.0, 6.0, 5.0, 4.0, 3.0, 2.0, 1.0, 1.7694, 1.7694, 1.7693, 1.7693, 1.7693, 1.7692, 1.7691, 1.769, 1.769, 1.769, 1.769, 1.769, 1.769, 1.769, 1.7689, 1.7689, 1.7689, 1.7688, 1.7687, 1.7687, 1.7687, 1.7687, 1.7687, 1.7687, 1.7686, 1.7686, 1.7686, 1.7686, 1.7686, 1.7685, 1.7538, 1.7297, 1.75, 1.7469, 1.559, 1.6933, 1.5971, 1.6431, 1.5309, 1.4691, 1.5037, 1.6375, 1.438, 1.4777, 1.5419, 1.4917, 1.4219, 1.3052, 1.4232, 1.5027, 1.2424, 1.428, 1.2471, 1.551, 1.2313, 0.3152, 0.9029, 0.6697, 0.6133, 0.7423, 0.5513, 0.8866, 0.5784, 0.3533, 0.3245, 0.0841, 1.8229, 1.8227, 1.8227, 1.8226, 1.8225, 1.8224, 1.8224, 1.8224, 1.8224, 1.8223, 1.8223, 1.8223, 1.8223, 1.8222, 1.8222, 1.8222, 1.8222, 1.8222, 1.8222, 1.8222, 1.8221, 1.8221, 1.8221, 1.822, 1.822, 1.822, 1.822, 1.8219, 1.8219, 1.8218, 1.8211, 1.7893, 1.7278, 1.6761, 1.7332, 1.5934, 1.4705, 1.523, 1.4593, 1.5347, 1.2569, 1.2656, 1.5423, 1.3605, 1.2883, 1.1453, 1.2248, 0.9486, 0.8087, 0.8071, 1.2747, 1.3093, 0.7337, 0.7378, 1.2112, 0.9955, 0.6758, 0.0728, 0.8324, 0.6937, 0.3771, 0.6519, 0.6857, 0.9441, 1.6974, 1.6973, 1.6973, 1.6973, 1.6972, 1.6971, 1.6971, 1.6971, 1.6971, 1.697, 1.697, 1.697, 1.6968, 1.6968, 1.6968, 1.6967, 1.6967, 1.6966, 1.6966, 1.6966, 1.6966, 1.6965, 1.6964, 1.6964, 1.6964, 1.6964, 1.6963, 1.6963, 1.6963, 1.6962, 1.6755, 1.6807, 1.6397, 1.6428, 1.6727, 1.6551, 1.6091, 1.5077, 1.5482, 1.6091, 1.5357, 1.5049, 1.4808, 1.2925, 1.4896, 1.2968, 1.4233, 1.2928, 1.3238, 1.3049, 0.6154, 0.8908, 0.7625, 1.0399, 1.3527, 0.4472, 0.6791, 0.5968, 0.4129, 0.1868, 0.3776, 0.3585, 0.231, 1.3375, 1.3374, 1.3374, 1.3374, 1.3374, 1.3373, 1.3373, 1.3372, 1.3372, 1.3371, 1.337, 1.337, 1.337, 1.337, 1.3369, 1.3369, 1.3368, 1.3368, 1.3368, 1.3368, 1.3368, 1.3368, 1.3367, 1.3367, 1.3367, 1.3367, 1.3367, 1.3367, 1.3366, 1.3366, 1.3092, 1.2982, 1.2691, 1.2067, 1.229, 1.284, 1.2829, 1.1948, 1.1007, 1.2267, 1.1965, 1.1937, 0.9998, 1.2492, 1.1353, 0.8873, 0.8928, 0.9761, 1.0713, 1.0687, 0.8275, 0.6251, 0.9256, 0.935, 0.612, 1.0105, 0.8282, 0.6763, 0.7705, 0.8293, 0.5265, 0.6343, 0.6248, 0.2648, 0.2455, 0.1923, 0.0518, 0.2587, 0.3124, 0.2043, 1.5032, 1.5031, 1.5031, 1.503, 1.503, 1.503, 1.5029, 1.5029, 1.5029, 1.5028, 1.5027, 1.5027, 1.5027, 1.5027, 1.5026, 1.5026, 1.5026, 1.5025, 1.5025, 1.5025, 1.5025, 1.5025, 1.5024, 1.5024, 1.5023, 1.5023, 1.5023, 1.5023, 1.5023, 1.5022, 1.4638, 1.4328, 1.4635, 1.4335, 1.4302, 1.3405, 1.3461, 1.3702, 1.3287, 1.3532, 1.4601, 1.2297, 1.2416, 1.0581, 1.108, 1.112, 1.0786, 1.2731, 1.1663, 1.2388, 0.9476, 0.9166, 0.9007, 1.112, 0.9282, 0.8061, 0.4438, 0.8562, 0.9434, 0.175, 0.3897, 0.6902, 0.53, 0.5523, 0.6302, 0.5524, -0.1754, -0.6267, 0.3548]}, \"token.table\": {\"Topic\": [3, 3, 4, 5, 3, 1, 2, 3, 4, 5, 2, 4, 5, 2, 2, 1, 1, 2, 3, 4, 5, 4, 4, 3, 2, 3, 4, 3, 4, 4, 1, 2, 3, 4, 1, 2, 3, 4, 5, 5, 3, 4, 2, 1, 2, 3, 4, 1, 2, 3, 4, 5, 5, 1, 2, 3, 4, 4, 3, 4, 2, 5, 1, 1, 1, 1, 3, 4, 5, 3, 1, 1, 3, 1, 3, 4, 5, 4, 5, 1, 2, 3, 4, 5, 3, 3, 3, 4, 1, 2, 3, 4, 5, 4, 2, 3, 5, 2, 1, 2, 3, 4, 5, 2, 4, 5, 1, 2, 3, 5, 1, 2, 4, 1, 2, 3, 4, 5, 4, 1, 5, 1, 2, 3, 4, 5, 1, 3, 4, 3, 4, 5, 1, 2, 3, 4, 5, 1, 4, 3, 4, 1, 2, 3, 4, 5, 4, 1, 3, 5, 3, 5, 1, 1, 4, 5, 5, 1, 2, 3, 5, 5, 5, 1, 2, 3, 4, 1, 2, 3, 5, 3, 3, 5, 3, 4, 1, 2, 5, 1, 2, 5, 5, 5, 2, 1, 1, 2, 3, 1, 2, 3, 4, 5, 4, 1, 2, 3, 4, 1, 2, 3, 2, 4, 1, 2, 1, 2, 3, 4, 5, 3, 5, 3, 5, 2, 2, 2, 5, 1, 1, 2, 4, 1, 3, 4, 5, 3, 2, 2, 2, 1, 3, 1, 2, 1, 2, 3, 5, 1, 2, 3, 1, 3, 1, 2, 4, 5, 5, 3, 2, 1, 5, 1, 3, 4, 5, 1, 2, 3, 1, 2, 3, 5, 1, 2, 3, 4, 2, 5, 1, 3, 3, 5, 1, 2, 3, 4, 5, 3, 2, 3, 4, 5, 5, 2, 1, 2, 3, 4, 5, 1, 2, 3, 4, 5, 1, 1, 3, 1, 2, 3, 3, 4, 1, 2, 2, 4, 5, 1, 2, 2, 3, 4, 5, 1, 2, 5, 4, 5, 4, 5, 4, 2, 3, 5, 4, 4, 4, 1, 3, 4, 5, 4, 1, 2, 3, 5, 3, 4, 5, 1, 2, 3, 5, 1, 1, 3, 1, 2, 3, 4, 5, 1, 2, 3, 4, 5, 1, 2, 3, 1, 2, 2, 3, 4, 5, 5, 1, 2, 3, 4, 3, 5, 1, 2, 3, 4, 5, 1, 5, 1, 5, 2, 5, 1, 2, 3, 4, 5, 1, 2, 3, 4, 1, 1, 2, 3, 4, 5, 2, 4, 4, 4, 4, 1, 2, 3, 4, 5, 5, 1, 3, 3, 4, 5, 1, 2, 3, 4, 5, 2, 4, 5, 1, 1, 4, 5, 1, 1, 2, 3, 4, 5, 3, 4, 1, 2, 4, 5, 5, 5, 2, 1, 1, 2, 4, 5, 1, 4, 4, 4, 4, 2, 4, 5, 2, 1, 2, 4, 2, 1, 2, 1, 2, 4, 5, 1, 2, 3, 4, 3, 4, 3, 1, 3, 4, 5, 2, 1, 2, 4, 2, 1, 1, 2, 3, 4, 5, 1, 3, 1, 2, 3, 4, 5, 5, 4, 2, 4, 1, 2, 3, 4, 5, 1, 2, 3, 4, 1, 2, 4, 3, 5, 1, 3, 4, 2, 3, 4, 5, 1, 2, 3, 4, 5, 4, 1, 4, 3, 2, 2, 2, 5, 4, 4, 1, 2, 2, 3, 4, 5, 1, 4, 5, 4, 1, 2, 3, 4, 1, 2, 3, 4, 5, 2, 4, 5, 1, 2, 1, 2, 3, 4, 5, 1, 3, 5, 5, 4, 5, 2, 3, 4, 5, 1, 3, 5, 1, 1, 3, 1, 4, 5, 1, 2, 4, 1, 2, 3, 1, 2, 3, 4, 5, 1, 1, 3, 1, 3, 4, 5, 3, 4, 3, 2, 3, 5, 2, 1, 3, 3, 2, 2, 2, 4, 3, 1, 5, 1, 3, 4, 5, 1, 2, 1, 2, 3, 4, 5, 3, 5, 3, 4, 3, 5, 1, 3, 5, 2, 5, 1, 3, 4, 5, 1, 2, 3, 5, 2, 5, 2, 3], \"Freq\": [0.9987708712986804, 0.09570105477765993, 0.7211571286250986, 0.18320912308072967, 0.9994249349789495, 0.09796655291267518, 0.23554067702246712, 0.08138367286235257, 0.2384745711852165, 0.3465821930517428, 0.5078126413673566, 0.4016143865455241, 0.09048581628051208, 0.9985709189725612, 0.9993405057780886, 0.999351034644987, 0.12576456202707817, 0.09184194382202933, 0.029232352665444016, 0.3668223955742098, 0.38634698933209966, 0.9996400398492968, 0.9999193657178959, 0.9987695485407186, 0.03863306497487342, 0.027411079434553048, 0.9338163705355119, 0.13125473578831529, 0.8685975162462042, 0.9995619232941872, 0.205490323245994, 0.32326926687904495, 0.3611543975443808, 0.11004728431359462, 0.09981301904050596, 0.03398173545437787, 0.19789363588137698, 0.340017247105275, 0.3283568476846552, 0.999674588507244, 0.667269744331316, 0.33266741396136656, 0.9989351928368486, 0.9995674277687375, 0.08337169231812198, 0.15043596315592672, 0.7662449668064072, 0.06346008366282217, 0.12325358471401461, 0.002397380938373282, 0.28726264538037505, 0.5234751790142131, 0.9998171899394701, 0.590259225106118, 0.28679475828326784, 0.05000912561874684, 0.07286683202529527, 0.9999605687737658, 0.9994694189488621, 0.9987550511999056, 0.43727697107969415, 0.5625509141457686, 0.9996701964950233, 0.9991950363838298, 0.9995710618500743, 0.09129460365500244, 0.1471494679514675, 0.08808323568723854, 0.6734697395253446, 0.9989967444576382, 0.9994087173371907, 0.9988392020363368, 0.9999299075500944, 0.03262301605894941, 0.24459382088642265, 0.6374884055963786, 0.08518231970947902, 0.12443658942717734, 0.8755002898983548, 0.1660161453574971, 0.040045194991768854, 0.05543597120900606, 0.5162110108501788, 0.22225447930768613, 0.9997387856238117, 0.9999602172456058, 0.999098150280502, 0.9997899591505294, 0.009459653637025828, 0.15695677733667127, 0.08495320013833875, 0.49502459323853604, 0.2535738222507603, 0.9996061588576273, 0.18907180515102032, 0.09678189594123503, 0.7138175278703748, 0.9994772704665692, 0.11274472860593146, 0.5424445770522821, 0.05045197901087344, 0.17623871579648648, 0.11806449510027527, 0.027807885345009123, 0.9721981620619469, 0.9995086128955458, 0.08177096990136726, 0.1360943415141637, 0.6698929457304318, 0.11217299717238842, 0.8415836682518278, 0.10467196873882109, 0.053650958851054024, 0.044498920566413275, 0.09406413189940112, 0.13028811088040926, 0.600439894018529, 0.1307103017776238, 0.9990256349786187, 0.139355354166851, 0.8605036891827526, 0.13131823608005422, 0.09345268645308713, 0.08618556076710354, 0.6624558783222929, 0.026518634082185705, 0.9983971274593694, 0.03832629101596511, 0.9613779721231583, 0.915344508888769, 0.06366619449580359, 0.02096790836688142, 0.06996779059480811, 0.4171406176656479, 0.17790986094601566, 0.20284174101378458, 0.1322254333073871, 0.9609819450549769, 0.03892703828187559, 0.9998471032566567, 0.9998825267087541, 0.23732239458367074, 0.07499798616713405, 0.6753243320620472, 0.003767022136248742, 0.008561413946019869, 0.9995862255571041, 0.7062634079539447, 0.21404821442506633, 0.07959020789724897, 0.9587453546908071, 0.04106831883247203, 0.9997616179074311, 0.12059720818983519, 0.4616940156744997, 0.41767813568186823, 0.9994215266337667, 0.3369914264907414, 0.4153015566096128, 0.10206103613412706, 0.14562698373925312, 0.9996090167974285, 0.9991263057665822, 0.036353187160130404, 0.7497145752023816, 0.18512161461543328, 0.028802909826872548, 0.18441254158584655, 0.7553130558783943, 0.060173572822654474, 0.9994835675954218, 0.9985741856949519, 0.9992484591803632, 0.9991007215976495, 0.9995501245461137, 0.9995544503377445, 0.36651385163875916, 0.5859013614118708, 0.04752311042562952, 0.5930731605110506, 0.40678646493258547, 0.9994148380574286, 0.9989753165586938, 0.9996814420094993, 0.9991179912917186, 0.9990554375979901, 0.9267442460329632, 0.025309355831578423, 0.048087776079999, 0.196216567686909, 0.10219804368517228, 0.09695947489915177, 0.2875698549378634, 0.3170712686275579, 0.9993404716532465, 0.07442966206792509, 0.3626616822252052, 0.2864154317949443, 0.27647465658994, 0.05471147232507622, 0.9094010529473809, 0.03600184966468746, 0.997982795115102, 0.0016468362955694752, 0.9992471887810984, 0.9993817995479812, 0.1435297015610638, 0.0468279928170049, 0.10545816268545007, 0.2062208355762411, 0.49797572849302774, 0.03895241159752084, 0.9610290298825844, 0.9468929163763119, 0.053110397921990606, 0.9994490080110259, 0.999772306399803, 0.9988102596452438, 0.9995559747686273, 0.9995321933395037, 0.7877335647398594, 0.05380864699573305, 0.1584539517635976, 0.1400117004043555, 0.23495190522037668, 0.18162473964804046, 0.44346335387036906, 0.9994467057517151, 0.999355985462216, 0.9988567171564628, 0.9995085698015653, 0.9987999675631715, 0.999091235812231, 0.13644947864807008, 0.8633863655664461, 0.15483918104579178, 0.6297027170276763, 0.0804883172140639, 0.1348486186004687, 0.7665319740324386, 0.01371102468923311, 0.2196620413754221, 0.7073310965997168, 0.29272081424660734, 0.13606853715949943, 0.5677599509422401, 0.09608675466537255, 0.2000953077270173, 0.9990638412895804, 0.9994142048242921, 0.9996325796006279, 0.9774845871863801, 0.021748729999202524, 0.0701161043975788, 0.1938437106965531, 0.18860776783569494, 0.54738367864928, 0.007402808035533413, 0.048601044059371545, 0.9439116680669997, 0.35797561056647415, 0.20978493325398342, 0.39259960059275706, 0.03958068754583496, 0.4135649145546583, 0.3206589357333044, 0.22816313783389902, 0.0375315543582953, 0.07039364454072904, 0.9294347304614903, 0.1727162417841413, 0.8271841998536297, 0.04205445444699386, 0.9578264538703256, 0.02998396837341766, 0.13970858328790584, 0.09580017139742114, 0.3481110879266756, 0.3863568927868864, 0.9996200676133851, 0.9990570734689365, 0.0004939026980069723, 0.358785031337922, 0.6407329143716165, 0.9989279756757161, 0.9990158463857037, 0.004223490764847043, 0.36207308482836875, 0.20168471948676991, 0.3420506100913161, 0.08994471073285369, 0.11946663119739093, 0.31751604646314185, 0.2621376080626102, 0.3008115175089909, 6.499816713677418e-05, 0.9997033815012716, 0.7177561979811965, 0.28214924390166995, 0.25908377116273384, 0.7408613960499785, 0.9990753228678766, 0.1328964757993375, 0.8670390921107834, 0.8762247062228454, 0.12323726518304504, 0.54981988981671, 0.25632490266198166, 0.1937304803761961, 0.7962581638412923, 0.20344241572917882, 0.10209300069850412, 0.22079064889102462, 0.49051151952912275, 0.1866046099327556, 0.7405041283933348, 0.1296162448488127, 0.12982004397593347, 0.9156471541710971, 0.08403821586441738, 0.8773783199319959, 0.1225570948279769, 0.999091167059582, 0.07485670792581091, 0.0705171886257639, 0.854451350179256, 0.999913847406271, 0.9998870845922939, 0.9995410553551429, 0.13891719928339008, 0.023648812955796957, 0.07674118111483781, 0.7606773809689128, 0.9988166771860759, 0.019833430706706255, 0.011900058424023752, 0.6882993792455339, 0.2800480415786923, 0.09920541768847191, 0.10653135622546675, 0.7942538363858581, 0.09854255286369777, 0.06100253272514623, 0.5182044671828431, 0.3222607809866873, 0.9996323055501318, 0.3329435518344083, 0.6670103152250761, 0.26450373572646585, 0.009406568078333248, 0.7084041626611445, 0.002239659066269821, 0.015453647557261765, 0.18534069403348544, 0.1506948527045744, 0.23075877174197387, 0.2338448718939609, 0.1993154871745588, 0.7658253886965339, 0.1248226770687321, 0.1092528294005393, 0.20497883969894182, 0.7949573940973618, 0.042581291040781004, 0.03546616528846541, 0.6009544673878862, 0.32105636663910203, 0.9990452085487771, 0.4203652618802431, 0.01958194584016953, 0.19969890050210626, 0.36032627699293085, 0.9996418701371915, 0.9992894250213484, 0.11253439621292953, 0.03782668780266539, 0.11906809683338991, 0.35273386375985477, 0.3778370293016236, 0.06735210082661905, 0.9327130816719996, 0.9998902694457681, 0.9987846626577266, 0.5779071089646571, 0.42183263149691524, 0.2335530623145023, 0.17373833963983334, 0.3389041545092418, 0.13495524526045122, 0.11883007808778702, 0.31467330211217853, 0.3364953858589459, 0.0650080447574304, 0.28385891613905295, 0.999418806613699, 0.24355209361894706, 0.06818230111400535, 0.33269584541327163, 0.23710241648654115, 0.11839764450202281, 0.05302215840734911, 0.9466947770337802, 0.9996556110320007, 0.9989636208550832, 0.9995464781315453, 0.08411984171478336, 0.57269899861221, 0.05761193733706255, 0.1161858550749295, 0.16941543725277208, 0.9998269784883592, 0.9843351771684224, 0.015516404217943175, 0.9997825953483478, 0.34602046692147315, 0.653940044960464, 0.09370512817434447, 0.3378240401300858, 0.09416758408143562, 0.3181696640787119, 0.15607886864326345, 0.9992444054209927, 0.1501516548588138, 0.8498189393705073, 0.998771177063735, 0.881191704736528, 0.11864616881631108, 0.9995323375264737, 0.9997476158911417, 0.04991541411840571, 0.13149014182117058, 0.06960427190955462, 0.48408708099646425, 0.2649214386358347, 0.7602993901008751, 0.23968699389489928, 0.16131415873417637, 0.4371568388730243, 0.2222600979188582, 0.1792127802791201, 0.9985303852983128, 0.9997291446653085, 0.999398925955754, 0.9989280745887815, 0.09359219761856234, 0.06835631783864518, 0.7134073492566148, 0.1246433018695039, 0.9996949114295279, 0.9998361387575915, 0.998853945102478, 0.9993666965101936, 0.9993363720902367, 0.050961025694563726, 0.7891614267202507, 0.1597758100490313, 0.9991004280587745, 0.03316160138695926, 0.9142398413143231, 0.05254838373625853, 0.9996749879809443, 0.8037104862585326, 0.196258983273127, 0.08717123572266082, 0.08439186298947453, 0.8168829133082969, 0.011370161181216629, 0.24262169142485926, 0.168183103082664, 0.2671813617282366, 0.32199753307546547, 0.10275792379632309, 0.8971395877564697, 0.9984420016234864, 0.29572169057874453, 0.2767753910994097, 0.3355150509738524, 0.09191101268454034, 0.9994119331419556, 0.047802227856692345, 0.08617408423145217, 0.8659682502202157, 0.9991425421430363, 0.9994792190431964, 0.05759713714946303, 0.09011009396582659, 0.2517101018809867, 0.5672883859947112, 0.033284777749689694, 0.7574658352111623, 0.24249805515753037, 0.04177013091033871, 0.06204092973447367, 0.06142666310343928, 0.7643524445504628, 0.07043590702527704, 0.9993352759047969, 0.9998838607368976, 0.05177446272121167, 0.9478066965899232, 0.03320917905875178, 0.05324920090455027, 0.26300142955724115, 0.6409944130391831, 0.009638296221074512, 0.09891456367225673, 0.12046578145559758, 0.08385634099030703, 0.6966845594960763, 0.021236455505326747, 0.08323320464184515, 0.8950138425067548, 0.9831676491910261, 0.016431771295671745, 0.19839037570212398, 0.20002706707503484, 0.6016009860713789, 0.5982872333241656, 0.11750322094746296, 0.18898434702383626, 0.095177608967445, 0.9996276637526224, 0.08850697247026482, 0.8123430651534383, 0.08347556835050816, 0.015551612733793302, 0.9991880593863821, 0.8101370136712738, 0.18977285312109007, 0.9998796340286243, 0.9991192960566025, 0.9996461128172398, 0.2321933394801612, 0.7676768854502048, 0.9996696746636584, 0.9990835564808372, 0.6285634393110637, 0.3713453204919364, 0.1093552928049611, 0.020663454100569335, 0.6686103362541364, 0.20140158834386088, 0.08375703497028159, 0.344901936686566, 0.5713183117078556, 0.9994914503854812, 0.3038760437844397, 0.045776936194627936, 0.4463442974688932, 0.20396423832112281, 0.11295589301725488, 0.3100514577750815, 0.05698592476831256, 0.49033756012150953, 0.029739818112474302, 0.04266461134278711, 0.025317461675939606, 0.9318232422394438, 0.03285934268344696, 0.9669344810231965, 0.746803403142493, 0.10033100219658336, 0.013819175774246387, 0.057548348429738376, 0.0814006244236431, 0.14920874438850817, 0.8506436664623197, 0.9994948435923647, 0.9995311907539695, 0.03844584334020125, 0.9611460835050313, 0.04829915921416301, 0.021954163279165002, 0.08976813429703023, 0.8398687130018345, 0.7107249362655779, 0.05805538726355709, 0.23108765477173704, 0.9995364681526813, 0.1385483595329586, 0.8613697352542492, 0.046316610669994936, 0.18407447108185487, 0.7696730890749159, 0.008305107159321973, 0.6950735837955621, 0.2964284401481073, 0.9995883563231187, 0.9996168859083603, 0.9989533536716554, 0.07243173593511226, 0.15544338835512855, 0.13428355538532047, 0.08173276141634657, 0.5562013237778123, 0.9998449293040192, 0.9995148408177418, 0.9994203478445902, 0.15025697017580555, 0.21506714068222205, 0.061017492714302624, 0.5736982907306369, 0.915519115166061, 0.08443458683391977, 0.9997563125072011, 0.02430794664393427, 0.9754543750017495, 0.9992240407861575, 0.9996127542104486, 0.9808364748034033, 0.01886223990006545, 0.999651580186727, 0.9999069343106427, 0.9996166331249482, 0.999474919900899, 0.9990375189697254, 0.9994384168188184, 0.9996526078849286, 0.9991707520573113, 0.06151621265266237, 0.08521508146147493, 0.17711122700202997, 0.6761741079280348, 0.9987287126973299, 0.9994158009665004, 0.23575223712574145, 0.086221567848397, 0.14157758175984955, 0.4444261048466788, 0.09209170387321466, 0.9997935787159488, 0.9992706474857367, 0.8249217591090942, 0.17504340735776266, 0.9997021734441969, 0.9999325765667766, 0.021667959639934207, 0.9783335730449363, 0.9991690758218041, 0.9996473049956665, 0.9989783125645343, 0.9990736326939592, 0.9998695120813024, 0.32363098320643974, 0.676226825374978, 0.5836951683943628, 0.111396055453501, 0.29940840244063166, 0.005376581862009098, 0.7029472233928522, 0.29698857030590087, 0.19459141588491322, 0.8052686347586688], \"Term\": [\"accommodation\", \"act\", \"act\", \"act\", \"adult\", \"agree\", \"agree\", \"agree\", \"agree\", \"agree\", \"agreement\", \"agreement\", \"agreement\", \"agricultural\", \"agriculture\", \"airport\", \"allow\", \"allow\", \"allow\", \"allow\", \"allow\", \"amend\", \"amendment\", \"app\", \"apply\", \"apply\", \"apply\", \"appropriate\", \"appropriate\", \"approve\", \"area\", \"area\", \"area\", \"area\", \"ask\", \"ask\", \"ask\", \"ask\", \"ask\", \"attack\", \"authority\", \"authority\", \"aviation\", \"bank\", \"baroness\", \"baroness\", \"baroness\", \"believe\", \"believe\", \"believe\", \"believe\", \"believe\", \"bench\", \"benefit\", \"benefit\", \"benefit\", \"benefit\", \"bill\", \"black\", \"breach\", \"british\", \"british\", \"budget\", \"bus\", \"buy\", \"call\", \"call\", \"call\", \"call\", \"cancer\", \"capital\", \"car\", \"care\", \"case\", \"case\", \"case\", \"case\", \"chamber\", \"chamber\", \"change\", \"change\", \"change\", \"change\", \"change\", \"charity\", \"child\", \"church\", \"clause\", \"clear\", \"clear\", \"clear\", \"clear\", \"clear\", \"code\", \"colleague\", \"colleague\", \"colleague\", \"college\", \"commitment\", \"commitment\", \"commitment\", \"commitment\", \"commitment\", \"committee\", \"committee\", \"commonsu\", \"community\", \"community\", \"community\", \"community\", \"company\", \"company\", \"company\", \"concern\", \"concern\", \"concern\", \"concern\", \"concern\", \"consent\", \"conservative\", \"conservative\", \"consider\", \"consider\", \"consider\", \"consider\", \"consider\", \"construction\", \"consultation\", \"consultation\", \"contact\", \"contact\", \"contact\", \"continue\", \"continue\", \"continue\", \"continue\", \"continue\", \"cost\", \"cost\", \"council\", \"court\", \"covid\", \"covid\", \"covid\", \"covid\", \"covid\", \"criminal\", \"crisis\", \"crisis\", \"crisis\", \"death\", \"death\", \"debt\", \"decision\", \"decision\", \"decision\", \"defend\", \"deliver\", \"deliver\", \"deliver\", \"deliver\", \"democracy\", \"democratic\", \"develop\", \"develop\", \"develop\", \"develop\", \"development\", \"development\", \"development\", \"devolution\", \"disability\", \"disease\", \"divide\", \"domestic_abuse\", \"draft\", \"economic\", \"economic\", \"economic\", \"economy\", \"economy\", \"elapse\", \"elect\", \"election\", \"emission\", \"employee\", \"employment\", \"employment\", \"employment\", \"end\", \"end\", \"end\", \"end\", \"end\", \"enforcement\", \"ensure\", \"ensure\", \"ensure\", \"ensure\", \"environment\", \"environment\", \"environment\", \"environmental\", \"environmental\", \"equipment\", \"export\", \"fact\", \"fact\", \"fact\", \"fact\", \"fact\", \"faith\", \"faith\", \"family\", \"family\", \"farm\", \"farmer\", \"farming\", \"fight\", \"finance\", \"financial\", \"financial\", \"financial\", \"find\", \"find\", \"find\", \"find\", \"fire\", \"fish\", \"fishery\", \"fishing\", \"flight\", \"flood\", \"food\", \"food\", \"free\", \"free\", \"free\", \"free\", \"fund\", \"fund\", \"fund\", \"funding\", \"funding\", \"future\", \"future\", \"future\", \"future\", \"genocide\", \"girl\", \"global\", \"green\", \"green\", \"happen\", \"happen\", \"happen\", \"happen\", \"health\", \"health\", \"health\", \"help\", \"help\", \"help\", \"help\", \"high\", \"high\", \"high\", \"high\", \"history\", \"history\", \"home\", \"home\", \"honour\", \"honour\", \"hope\", \"hope\", \"hope\", \"hope\", \"hope\", \"hospital\", \"hospitality\", \"house\", \"house\", \"house\", \"humanitarian\", \"import\", \"important\", \"important\", \"important\", \"important\", \"important\", \"include\", \"include\", \"include\", \"include\", \"include\", \"income\", \"increase\", \"increase\", \"industry\", \"industry\", \"infection\", \"information\", \"information\", \"infrastructure\", \"infrastructure\", \"international\", \"international\", \"international\", \"investment\", \"investment\", \"issue\", \"issue\", \"issue\", \"issue\", \"job\", \"job\", \"job\", \"judge\", \"judge\", \"law\", \"law\", \"lawyer\", \"leader\", \"leader\", \"leader\", \"legal\", \"legislation\", \"legislative\", \"let\", \"let\", \"let\", \"let\", \"licence\", \"life\", \"life\", \"life\", \"life\", \"listen\", \"listen\", \"listen\", \"live\", \"live\", \"live\", \"live\", \"loan\", \"local\", \"local\", \"lockdown\", \"lockdown\", \"lockdown\", \"lockdown\", \"lockdown\", \"look\", \"look\", \"look\", \"look\", \"look\", \"low\", \"low\", \"low\", \"market\", \"market\", \"matter\", \"matter\", \"matter\", \"matter\", \"mayor\", \"measure\", \"measure\", \"measure\", \"measure\", \"medical\", \"military\", \"minister\", \"minister\", \"minister\", \"minister\", \"minister\", \"minute\", \"minute\", \"money\", \"murder\", \"nation\", \"nation\", \"need\", \"need\", \"need\", \"need\", \"need\", \"new\", \"new\", \"new\", \"new\", \"nhs\", \"number\", \"number\", \"number\", \"number\", \"number\", \"obligation\", \"obligation\", \"offence\", \"offender\", \"operator\", \"opportunity\", \"opportunity\", \"opportunity\", \"opportunity\", \"opportunity\", \"opposition\", \"pandemic\", \"pandemic\", \"parent\", \"parliament\", \"parliament\", \"part\", \"part\", \"part\", \"part\", \"part\", \"partnership\", \"party\", \"party\", \"passenger\", \"payment\", \"payment\", \"peace\", \"pension\", \"point\", \"point\", \"point\", \"point\", \"point\", \"police\", \"police\", \"policy\", \"policy\", \"policy\", \"policy\", \"politic\", \"political\", \"port\", \"pound\", \"power\", \"power\", \"power\", \"power\", \"price\", \"prison\", \"prisoner\", \"procedure\", \"proceeding\", \"process\", \"process\", \"process\", \"producer\", \"product\", \"product\", \"product\", \"production\", \"project\", \"project\", \"propose\", \"propose\", \"propose\", \"propose\", \"provide\", \"provide\", \"provide\", \"provide\", \"provision\", \"provision\", \"pub\", \"public\", \"public\", \"public\", \"public\", \"pupil\", \"purpose\", \"purpose\", \"purpose\", \"quota\", \"rail\", \"raise\", \"raise\", \"raise\", \"raise\", \"raise\", \"rate\", \"rate\", \"refer\", \"refer\", \"refer\", \"refer\", \"refer\", \"referendum\", \"regulation\", \"relevant\", \"relevant\", \"report\", \"report\", \"report\", \"report\", \"report\", \"require\", \"require\", \"require\", \"require\", \"requirement\", \"requirement\", \"requirement\", \"resident\", \"resident\", \"review\", \"review\", \"review\", \"role\", \"role\", \"role\", \"role\", \"rural\", \"safe\", \"safe\", \"safe\", \"safe\", \"schedule\", \"scheme\", \"scheme\", \"school\", \"science\", \"scientific\", \"scottish\", \"scottish\", \"scrutiny\", \"section\", \"sector\", \"sector\", \"seek\", \"seek\", \"seek\", \"seek\", \"seem\", \"seem\", \"seem\", \"sentence\", \"service\", \"service\", \"service\", \"service\", \"set\", \"set\", \"set\", \"set\", \"set\", \"side\", \"side\", \"side\", \"skill\", \"skill\", \"small\", \"small\", \"small\", \"small\", \"small\", \"social\", \"social\", \"sovereign\", \"sovereignty\", \"speaker\", \"speaker\", \"speech\", \"speech\", \"speech\", \"speech\", \"spend\", \"spend\", \"spend\", \"spending\", \"staff\", \"staff\", \"stand\", \"stand\", \"stand\", \"standard\", \"standard\", \"standard\", \"station\", \"student\", \"symptom\", \"talk\", \"talk\", \"talk\", \"talk\", \"talk\", \"tax\", \"taxpayer\", \"teacher\", \"tell\", \"tell\", \"tell\", \"tell\", \"test\", \"test\", \"testing\", \"tier\", \"tier\", \"tonight\", \"tourism\", \"town\", \"town\", \"trace\", \"trade\", \"trading\", \"transition\", \"transparency\", \"transplant\", \"transport\", \"truth\", \"try\", \"try\", \"try\", \"try\", \"unemployment\", \"university\", \"use\", \"use\", \"use\", \"use\", \"use\", \"vaccine\", \"veteran\", \"victim\", \"victim\", \"virus\", \"vote\", \"vulnerable\", \"vulnerable\", \"war\", \"welsh\", \"westminster\", \"winter\", \"woman\", \"word\", \"word\", \"worker\", \"worker\", \"worker\", \"worker\", \"world\", \"world\", \"young\", \"young\"]}, \"R\": 30, \"lambda.step\": 0.01, \"plot.opts\": {\"xlab\": \"PC1\", \"ylab\": \"PC2\"}, \"topic.order\": [1, 2, 3, 4, 5]};\n",
              "\n",
              "function LDAvis_load_lib(url, callback){\n",
              "  var s = document.createElement('script');\n",
              "  s.src = url;\n",
              "  s.async = true;\n",
              "  s.onreadystatechange = s.onload = callback;\n",
              "  s.onerror = function(){console.warn(\"failed to load library \" + url);};\n",
              "  document.getElementsByTagName(\"head\")[0].appendChild(s);\n",
              "}\n",
              "\n",
              "if(typeof(LDAvis) !== \"undefined\"){\n",
              "   // already loaded: just create the visualization\n",
              "   !function(LDAvis){\n",
              "       new LDAvis(\"#\" + \"ldavis_el11651397146010942241643823862\", ldavis_el11651397146010942241643823862_data);\n",
              "   }(LDAvis);\n",
              "}else if(typeof define === \"function\" && define.amd){\n",
              "   // require.js is available: use it to load d3/LDAvis\n",
              "   require.config({paths: {d3: \"https://cdnjs.cloudflare.com/ajax/libs/d3/3.5.5/d3.min\"}});\n",
              "   require([\"d3\"], function(d3){\n",
              "      window.d3 = d3;\n",
              "      LDAvis_load_lib(\"https://cdn.rawgit.com/bmabey/pyLDAvis/files/ldavis.v1.0.0.js\", function(){\n",
              "        new LDAvis(\"#\" + \"ldavis_el11651397146010942241643823862\", ldavis_el11651397146010942241643823862_data);\n",
              "      });\n",
              "    });\n",
              "}else{\n",
              "    // require.js not available: dynamically load d3 & LDAvis\n",
              "    LDAvis_load_lib(\"https://cdnjs.cloudflare.com/ajax/libs/d3/3.5.5/d3.min.js\", function(){\n",
              "         LDAvis_load_lib(\"https://cdn.rawgit.com/bmabey/pyLDAvis/files/ldavis.v1.0.0.js\", function(){\n",
              "                 new LDAvis(\"#\" + \"ldavis_el11651397146010942241643823862\", ldavis_el11651397146010942241643823862_data);\n",
              "            })\n",
              "         });\n",
              "}\n",
              "</script>"
            ],
            "text/plain": [
              "PreparedData(topic_coordinates=              x         y  topics  cluster       Freq\n",
              "topic                                                \n",
              "0     -0.207848  0.073049       1        1  17.040885\n",
              "1     -0.022707 -0.234707       2        1  16.154801\n",
              "2     -0.104094  0.072602       3        1  18.315567\n",
              "3      0.152757 -0.041623       4        1  26.250142\n",
              "4      0.181891  0.130679       5        1  22.238606, topic_info=           Term          Freq         Total Category  logprob  loglift\n",
              "279        bill  21546.000000  21546.000000  Default  30.0000  30.0000\n",
              "20        child  14118.000000  14118.000000  Default  29.0000  29.0000\n",
              "150   amendment  16470.000000  16470.000000  Default  28.0000  28.0000\n",
              "2568      trade  10560.000000  10560.000000  Default  27.0000  27.0000\n",
              "1497      local  16915.000000  16915.000000  Default  26.0000  26.0000\n",
              "...         ...           ...           ...      ...      ...      ...\n",
              "670    decision   3975.616681   9519.291675   Topic5  -5.5511   0.6302\n",
              "139       allow   3542.184012   9167.924425   Topic5  -5.6665   0.5524\n",
              "1400      issue   4012.288313  21500.004750   Topic5  -5.5419  -0.1754\n",
              "33         need   4310.967768  36278.693655   Topic5  -5.4701  -0.6267\n",
              "896         end   3450.213058  10880.834504   Topic5  -5.6928   0.3548\n",
              "\n",
              "[362 rows x 6 columns], token_table=      Topic      Freq           Term\n",
              "term                                \n",
              "3124      3  0.998771  accommodation\n",
              "74        3  0.095701            act\n",
              "74        4  0.721157            act\n",
              "74        5  0.183209            act\n",
              "97        3  0.999425          adult\n",
              "...     ...       ...            ...\n",
              "2802      5  0.005377         worker\n",
              "2804      2  0.702947          world\n",
              "2804      5  0.296989          world\n",
              "43        2  0.194591          young\n",
              "43        3  0.805269          young\n",
              "\n",
              "[653 rows x 3 columns], R=30, lambda_step=0.01, plot_opts={'xlab': 'PC1', 'ylab': 'PC2'}, topic_order=[1, 2, 3, 4, 5])"
            ]
          },
          "metadata": {},
          "execution_count": 29
        }
      ]
    },
    {
      "cell_type": "code",
      "metadata": {
        "id": "Dh0aBSAj9gad",
        "colab": {
          "base_uri": "https://localhost:8080/"
        },
        "outputId": "eb4a029d-6b95-4203-bcb8-0f81d7e3b868"
      },
      "source": [
        "from gensim.parsing.preprocessing import preprocess_string, strip_punctuation, strip_numeric\n",
        "\n",
        "lda_topics = lda_model.show_topics(num_topics=5,num_words=30)\n",
        "lda_topics\n",
        "# topics = []\n",
        "# filters = [lambda x: x.lower(), strip_punctuation, strip_numeric]\n",
        "\n",
        "# for topic in lda_topics:\n",
        "#     print(topic)\n",
        "#     topics.append(preprocess_string(topic[1], filters))"
      ],
      "execution_count": null,
      "outputs": [
        {
          "output_type": "execute_result",
          "data": {
            "text/plain": [
              "[(0,\n",
              "  '0.011*\"scheme\" + 0.011*\"need\" + 0.009*\"job\" + 0.009*\"money\" + 0.008*\"increase\" + 0.008*\"sector\" + 0.008*\"cost\" + 0.007*\"local\" + 0.007*\"new\" + 0.007*\"fund\" + 0.006*\"financial\" + 0.006*\"help\" + 0.006*\"public\" + 0.006*\"company\" + 0.006*\"benefit\" + 0.006*\"pandemic\" + 0.006*\"measure\" + 0.006*\"pension\" + 0.006*\"crisis\" + 0.005*\"economy\" + 0.005*\"high\" + 0.005*\"service\" + 0.005*\"small\" + 0.005*\"provide\" + 0.005*\"funding\" + 0.005*\"use\" + 0.005*\"rate\" + 0.004*\"transport\" + 0.004*\"worker\" + 0.004*\"look\"'),\n",
              " (1,\n",
              "  '0.014*\"trade\" + 0.010*\"ensure\" + 0.009*\"important\" + 0.009*\"world\" + 0.008*\"need\" + 0.008*\"future\" + 0.008*\"new\" + 0.008*\"part\" + 0.008*\"continue\" + 0.007*\"opportunity\" + 0.007*\"include\" + 0.006*\"industry\" + 0.006*\"food\" + 0.006*\"agreement\" + 0.006*\"standard\" + 0.005*\"policy\" + 0.005*\"area\" + 0.005*\"international\" + 0.005*\"agree\" + 0.005*\"sector\" + 0.005*\"economic\" + 0.005*\"free\" + 0.005*\"market\" + 0.005*\"set\" + 0.004*\"nation\" + 0.004*\"environment\" + 0.004*\"commitment\" + 0.004*\"global\" + 0.004*\"high\" + 0.004*\"deliver\"'),\n",
              " (2,\n",
              "  '0.017*\"child\" + 0.015*\"need\" + 0.013*\"local\" + 0.011*\"care\" + 0.010*\"health\" + 0.010*\"school\" + 0.009*\"family\" + 0.009*\"test\" + 0.009*\"home\" + 0.008*\"community\" + 0.007*\"service\" + 0.007*\"ensure\" + 0.007*\"woman\" + 0.006*\"help\" + 0.006*\"authority\" + 0.006*\"issue\" + 0.006*\"staff\" + 0.005*\"public\" + 0.005*\"virus\" + 0.005*\"life\" + 0.005*\"number\" + 0.005*\"police\" + 0.005*\"provide\" + 0.005*\"area\" + 0.005*\"victim\" + 0.005*\"live\" + 0.005*\"include\" + 0.005*\"young\" + 0.005*\"look\" + 0.005*\"covid\"'),\n",
              " (3,\n",
              "  '0.018*\"bill\" + 0.014*\"amendment\" + 0.009*\"issue\" + 0.009*\"point\" + 0.008*\"regulation\" + 0.008*\"law\" + 0.008*\"legislation\" + 0.007*\"case\" + 0.006*\"concern\" + 0.006*\"change\" + 0.006*\"use\" + 0.006*\"process\" + 0.006*\"report\" + 0.005*\"important\" + 0.005*\"power\" + 0.005*\"provision\" + 0.005*\"clause\" + 0.005*\"raise\" + 0.005*\"part\" + 0.005*\"matter\" + 0.005*\"ensure\" + 0.005*\"public\" + 0.004*\"clear\" + 0.004*\"legal\" + 0.004*\"set\" + 0.004*\"consider\" + 0.004*\"review\" + 0.004*\"ask\" + 0.004*\"provide\" + 0.004*\"house\"'),\n",
              " (4,\n",
              "  '0.009*\"house\" + 0.006*\"parliament\" + 0.006*\"call\" + 0.006*\"point\" + 0.006*\"vote\" + 0.005*\"agree\" + 0.005*\"try\" + 0.005*\"party\" + 0.005*\"tell\" + 0.005*\"ask\" + 0.005*\"let\" + 0.005*\"happen\" + 0.005*\"talk\" + 0.004*\"stand\" + 0.004*\"minister\" + 0.004*\"need\" + 0.004*\"hope\" + 0.004*\"political\" + 0.004*\"issue\" + 0.004*\"decision\" + 0.004*\"side\" + 0.004*\"find\" + 0.004*\"leader\" + 0.004*\"fact\" + 0.004*\"believe\" + 0.003*\"british\" + 0.003*\"allow\" + 0.003*\"colleague\" + 0.003*\"end\" + 0.003*\"speech\"')]"
            ]
          },
          "metadata": {},
          "execution_count": 30
        }
      ]
    },
    {
      "cell_type": "code",
      "metadata": {
        "id": "u3pP5qoP_JEc"
      },
      "source": [
        "pyLDAvis.save_html(LDAvis_prepared, '/content/gdrive/My Drive/Text Summarization/UK/Html/UK_tot5.html')"
      ],
      "execution_count": null,
      "outputs": []
    }
  ]
}